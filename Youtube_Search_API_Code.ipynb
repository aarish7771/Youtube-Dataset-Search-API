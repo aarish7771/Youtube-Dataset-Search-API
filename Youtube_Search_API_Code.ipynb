{
  "nbformat": 4,
  "nbformat_minor": 0,
  "metadata": {
    "colab": {
      "provenance": []
    },
    "kernelspec": {
      "name": "python3",
      "display_name": "Python 3"
    },
    "language_info": {
      "name": "python"
    }
  },
  "cells": [
    {
      "cell_type": "markdown",
      "source": [
        "##Importing Important Libraries"
      ],
      "metadata": {
        "id": "bKbqxcLdV1Zu"
      }
    },
    {
      "cell_type": "code",
      "execution_count": null,
      "metadata": {
        "id": "wljZLHB-BYxL"
      },
      "outputs": [],
      "source": [
        "import numpy as np\n",
        "import pandas as pd\n",
        "\n",
        "import matplotlib as mpl\n",
        "import matplotlib.cm as cm\n",
        "import matplotlib.pyplot as plt\n",
        "import plotly.graph_objects as go\n",
        "import seaborn as sns\n",
        "\n",
        "from sklearn.feature_extraction.text import CountVectorizer\n",
        "from sklearn.feature_extraction import _stop_words\n",
        "from nltk.stem import WordNetLemmatizer\n",
        "from sklearn.feature_extraction.text import TfidfVectorizer\n",
        "from sklearn.preprocessing import LabelEncoder\n",
        "\n",
        "import string\n",
        "import re\n",
        "\n",
        "from sklearn.naive_bayes import MultinomialNB\n",
        "from sklearn.naive_bayes import GaussianNB\n",
        "from sklearn.linear_model import LogisticRegression\n",
        "from sklearn.svm import LinearSVC\n",
        "\n",
        "from sklearn.metrics import accuracy_score\n",
        "import sklearn.metrics as metrics\n",
        "from sklearn.model_selection import train_test_split\n",
        "from sklearn.metrics import confusion_matrix\n",
        "from sklearn.metrics import classification_report\n",
        "from sklearn import metrics\n",
        "\n",
        "from time import time\n",
        "\n",
        "import warnings\n",
        "warnings.filterwarnings(\"ignore\")"
      ]
    },
    {
      "cell_type": "markdown",
      "source": [
        "##Importing Youtube Videos Dataset"
      ],
      "metadata": {
        "id": "xAHhe08xV_f0"
      }
    },
    {
      "cell_type": "code",
      "source": [
        "data = pd.read_csv('/content/Youtube_Video_Dataset - Youtube_Video_Dataset.csv', encoding = 'utf-8')\n",
        "display(data.shape)"
      ],
      "metadata": {
        "colab": {
          "base_uri": "https://localhost:8080/",
          "height": 34
        },
        "id": "9r8IW8HmWlgi",
        "outputId": "4ae007d5-2977-4b6f-ffce-e232e05084a1"
      },
      "execution_count": null,
      "outputs": [
        {
          "output_type": "display_data",
          "data": {
            "text/plain": [
              "(11211, 4)"
            ]
          },
          "metadata": {}
        }
      ]
    },
    {
      "cell_type": "code",
      "source": [
        "data = data.sample(frac=1, random_state=42).reset_index(drop=True)"
      ],
      "metadata": {
        "id": "lmrmPjPK3MKN"
      },
      "execution_count": null,
      "outputs": []
    },
    {
      "cell_type": "code",
      "source": [
        "display(data.shape)"
      ],
      "metadata": {
        "colab": {
          "base_uri": "https://localhost:8080/",
          "height": 34
        },
        "id": "Ihnm_7a76OGd",
        "outputId": "424e8322-6293-419a-8165-96c77e326d86"
      },
      "execution_count": null,
      "outputs": [
        {
          "output_type": "display_data",
          "data": {
            "text/plain": [
              "(11211, 4)"
            ]
          },
          "metadata": {}
        }
      ]
    },
    {
      "cell_type": "code",
      "source": [
        "data.head()"
      ],
      "metadata": {
        "colab": {
          "base_uri": "https://localhost:8080/",
          "height": 285
        },
        "id": "sXwnWgff5pnR",
        "outputId": "ec7fe5f6-9309-4600-965c-4b6578fc1ce5"
      },
      "execution_count": null,
      "outputs": [
        {
          "output_type": "execute_result",
          "data": {
            "text/plain": [
              "                                               Title              Videourl  \\\n",
              "0  Weekend in North Goa 🌊 GOA TRAVEL VLOG | Kriti...  /watch?v=0W0KL44OJbY   \n",
              "1                Jathar Textile Pvt Ltd Ichalkaranji  /watch?v=E2A-Dz4Ywxg   \n",
              "2  Paddleboarding on the North Shore of Oahu, Hawaii  /watch?v=BlaOCzzqZb4   \n",
              "3                                  Common - The Food  /watch?v=Mco3xpXfnsU   \n",
              "4       Wayanad Pooppoli 2018 - വയനാട് പൂപ്പൊലി 2018  /watch?v=REm2u9HeO-o   \n",
              "\n",
              "        Category                                        Description  \n",
              "0    travel blog  OYO Home invited me to spend a weekend in Goa ...  \n",
              "1  manufacturing  Jathar Textile Pvt. Ltd.is originated in the y...  \n",
              "2           Food  Go to http://migrationology.com/ for more trav...  \n",
              "3           Food                                    Awesome Artist!  \n",
              "4    travel blog  വയനാട് പൂപ്പൊലി 2018 ന്റെ അവസാന ദിവസം സന്ദർശിക...  "
            ],
            "text/html": [
              "\n",
              "  <div id=\"df-fc322452-ec2d-4181-83f3-efdd9ddc594c\">\n",
              "    <div class=\"colab-df-container\">\n",
              "      <div>\n",
              "<style scoped>\n",
              "    .dataframe tbody tr th:only-of-type {\n",
              "        vertical-align: middle;\n",
              "    }\n",
              "\n",
              "    .dataframe tbody tr th {\n",
              "        vertical-align: top;\n",
              "    }\n",
              "\n",
              "    .dataframe thead th {\n",
              "        text-align: right;\n",
              "    }\n",
              "</style>\n",
              "<table border=\"1\" class=\"dataframe\">\n",
              "  <thead>\n",
              "    <tr style=\"text-align: right;\">\n",
              "      <th></th>\n",
              "      <th>Title</th>\n",
              "      <th>Videourl</th>\n",
              "      <th>Category</th>\n",
              "      <th>Description</th>\n",
              "    </tr>\n",
              "  </thead>\n",
              "  <tbody>\n",
              "    <tr>\n",
              "      <th>0</th>\n",
              "      <td>Weekend in North Goa 🌊 GOA TRAVEL VLOG | Kriti...</td>\n",
              "      <td>/watch?v=0W0KL44OJbY</td>\n",
              "      <td>travel blog</td>\n",
              "      <td>OYO Home invited me to spend a weekend in Goa ...</td>\n",
              "    </tr>\n",
              "    <tr>\n",
              "      <th>1</th>\n",
              "      <td>Jathar Textile Pvt Ltd Ichalkaranji</td>\n",
              "      <td>/watch?v=E2A-Dz4Ywxg</td>\n",
              "      <td>manufacturing</td>\n",
              "      <td>Jathar Textile Pvt. Ltd.is originated in the y...</td>\n",
              "    </tr>\n",
              "    <tr>\n",
              "      <th>2</th>\n",
              "      <td>Paddleboarding on the North Shore of Oahu, Hawaii</td>\n",
              "      <td>/watch?v=BlaOCzzqZb4</td>\n",
              "      <td>Food</td>\n",
              "      <td>Go to http://migrationology.com/ for more trav...</td>\n",
              "    </tr>\n",
              "    <tr>\n",
              "      <th>3</th>\n",
              "      <td>Common - The Food</td>\n",
              "      <td>/watch?v=Mco3xpXfnsU</td>\n",
              "      <td>Food</td>\n",
              "      <td>Awesome Artist!</td>\n",
              "    </tr>\n",
              "    <tr>\n",
              "      <th>4</th>\n",
              "      <td>Wayanad Pooppoli 2018 - വയനാട് പൂപ്പൊലി 2018</td>\n",
              "      <td>/watch?v=REm2u9HeO-o</td>\n",
              "      <td>travel blog</td>\n",
              "      <td>വയനാട് പൂപ്പൊലി 2018 ന്റെ അവസാന ദിവസം സന്ദർശിക...</td>\n",
              "    </tr>\n",
              "  </tbody>\n",
              "</table>\n",
              "</div>\n",
              "      <button class=\"colab-df-convert\" onclick=\"convertToInteractive('df-fc322452-ec2d-4181-83f3-efdd9ddc594c')\"\n",
              "              title=\"Convert this dataframe to an interactive table.\"\n",
              "              style=\"display:none;\">\n",
              "        \n",
              "  <svg xmlns=\"http://www.w3.org/2000/svg\" height=\"24px\"viewBox=\"0 0 24 24\"\n",
              "       width=\"24px\">\n",
              "    <path d=\"M0 0h24v24H0V0z\" fill=\"none\"/>\n",
              "    <path d=\"M18.56 5.44l.94 2.06.94-2.06 2.06-.94-2.06-.94-.94-2.06-.94 2.06-2.06.94zm-11 1L8.5 8.5l.94-2.06 2.06-.94-2.06-.94L8.5 2.5l-.94 2.06-2.06.94zm10 10l.94 2.06.94-2.06 2.06-.94-2.06-.94-.94-2.06-.94 2.06-2.06.94z\"/><path d=\"M17.41 7.96l-1.37-1.37c-.4-.4-.92-.59-1.43-.59-.52 0-1.04.2-1.43.59L10.3 9.45l-7.72 7.72c-.78.78-.78 2.05 0 2.83L4 21.41c.39.39.9.59 1.41.59.51 0 1.02-.2 1.41-.59l7.78-7.78 2.81-2.81c.8-.78.8-2.07 0-2.86zM5.41 20L4 18.59l7.72-7.72 1.47 1.35L5.41 20z\"/>\n",
              "  </svg>\n",
              "      </button>\n",
              "      \n",
              "  <style>\n",
              "    .colab-df-container {\n",
              "      display:flex;\n",
              "      flex-wrap:wrap;\n",
              "      gap: 12px;\n",
              "    }\n",
              "\n",
              "    .colab-df-convert {\n",
              "      background-color: #E8F0FE;\n",
              "      border: none;\n",
              "      border-radius: 50%;\n",
              "      cursor: pointer;\n",
              "      display: none;\n",
              "      fill: #1967D2;\n",
              "      height: 32px;\n",
              "      padding: 0 0 0 0;\n",
              "      width: 32px;\n",
              "    }\n",
              "\n",
              "    .colab-df-convert:hover {\n",
              "      background-color: #E2EBFA;\n",
              "      box-shadow: 0px 1px 2px rgba(60, 64, 67, 0.3), 0px 1px 3px 1px rgba(60, 64, 67, 0.15);\n",
              "      fill: #174EA6;\n",
              "    }\n",
              "\n",
              "    [theme=dark] .colab-df-convert {\n",
              "      background-color: #3B4455;\n",
              "      fill: #D2E3FC;\n",
              "    }\n",
              "\n",
              "    [theme=dark] .colab-df-convert:hover {\n",
              "      background-color: #434B5C;\n",
              "      box-shadow: 0px 1px 3px 1px rgba(0, 0, 0, 0.15);\n",
              "      filter: drop-shadow(0px 1px 2px rgba(0, 0, 0, 0.3));\n",
              "      fill: #FFFFFF;\n",
              "    }\n",
              "  </style>\n",
              "\n",
              "      <script>\n",
              "        const buttonEl =\n",
              "          document.querySelector('#df-fc322452-ec2d-4181-83f3-efdd9ddc594c button.colab-df-convert');\n",
              "        buttonEl.style.display =\n",
              "          google.colab.kernel.accessAllowed ? 'block' : 'none';\n",
              "\n",
              "        async function convertToInteractive(key) {\n",
              "          const element = document.querySelector('#df-fc322452-ec2d-4181-83f3-efdd9ddc594c');\n",
              "          const dataTable =\n",
              "            await google.colab.kernel.invokeFunction('convertToInteractive',\n",
              "                                                     [key], {});\n",
              "          if (!dataTable) return;\n",
              "\n",
              "          const docLinkHtml = 'Like what you see? Visit the ' +\n",
              "            '<a target=\"_blank\" href=https://colab.research.google.com/notebooks/data_table.ipynb>data table notebook</a>'\n",
              "            + ' to learn more about interactive tables.';\n",
              "          element.innerHTML = '';\n",
              "          dataTable['output_type'] = 'display_data';\n",
              "          await google.colab.output.renderOutput(dataTable, element);\n",
              "          const docLink = document.createElement('div');\n",
              "          docLink.innerHTML = docLinkHtml;\n",
              "          element.appendChild(docLink);\n",
              "        }\n",
              "      </script>\n",
              "    </div>\n",
              "  </div>\n",
              "  "
            ]
          },
          "metadata": {},
          "execution_count": 5
        }
      ]
    },
    {
      "cell_type": "code",
      "source": [
        "temp_data = data"
      ],
      "metadata": {
        "id": "KukVPfl8rOXp"
      },
      "execution_count": null,
      "outputs": []
    },
    {
      "cell_type": "code",
      "source": [
        "first = data.iloc[0]\n",
        "print(first)"
      ],
      "metadata": {
        "colab": {
          "base_uri": "https://localhost:8080/"
        },
        "id": "xOwlWdgJfaxZ",
        "outputId": "aee4fed1-935e-4c22-a8eb-ff2b06fc320e"
      },
      "execution_count": null,
      "outputs": [
        {
          "output_type": "stream",
          "name": "stdout",
          "text": [
            "Title          Weekend in North Goa 🌊 GOA TRAVEL VLOG | Kriti...\n",
            "Videourl                                    /watch?v=0W0KL44OJbY\n",
            "Category                                             travel blog\n",
            "Description    OYO Home invited me to spend a weekend in Goa ...\n",
            "Name: 0, dtype: object\n"
          ]
        }
      ]
    },
    {
      "cell_type": "markdown",
      "source": [
        "##Data Analysis for the Feature = 'Category'"
      ],
      "metadata": {
        "id": "hMxgliFwX84P"
      }
    },
    {
      "cell_type": "code",
      "source": [
        "data[\"Title\"].value_counts()"
      ],
      "metadata": {
        "colab": {
          "base_uri": "https://localhost:8080/"
        },
        "id": "fgFnA2tMW31b",
        "outputId": "0dd2c66e-2762-4fec-81ba-73e885261f28"
      },
      "execution_count": null,
      "outputs": [
        {
          "output_type": "execute_result",
          "data": {
            "text/plain": [
              "SMT solutions for Electronic Manufacturing LED PCB assembly                                             8\n",
              "Home Textile Manufacturers in India                                                                     4\n",
              "TRYING FOOD FROM AROUND THE WORLD!                                                                      4\n",
              "LOTTERY MACHINE FROM GUANGZHOU QIQI ELECTRONIC MANUFACTURING CO.,LTD                                    4\n",
              "Science Technology and Society                                                                          3\n",
              "                                                                                                       ..\n",
              "\"Notice\" by Art and Music                                                                               1\n",
              "Decoding the Secret Signals of Glow-in-the-Dark Sea Creatures                                           1\n",
              "I'M THE QUEEN OF THE DESERT - Dubai travel diary pt 2                                                   1\n",
              "Frank Clarke Simply Painting Introduction to Watercolour                                                1\n",
              "Taj Rambagh Palace - Jaipur| Most Luxurious Suites| Travel Blog| Let's Trip| 361 Degrees Hospitality    1\n",
              "Name: Title, Length: 11145, dtype: int64"
            ]
          },
          "metadata": {},
          "execution_count": 8
        }
      ]
    },
    {
      "cell_type": "code",
      "source": [
        "data[\"Category\"].value_counts()/data.shape[0]"
      ],
      "metadata": {
        "colab": {
          "base_uri": "https://localhost:8080/"
        },
        "id": "ko26Vv-RafAW",
        "outputId": "c3b1a2d5-c66f-4245-ddc9-cb55ad9c90ea"
      },
      "execution_count": null,
      "outputs": [
        {
          "output_type": "execute_result",
          "data": {
            "text/plain": [
              "travel blog           0.196236\n",
              "Science&Technology    0.184997\n",
              "Food                  0.163054\n",
              "Art&Music             0.157435\n",
              "manufacturing         0.151548\n",
              "History               0.146731\n",
              "Name: Category, dtype: float64"
            ]
          },
          "metadata": {},
          "execution_count": 9
        }
      ]
    },
    {
      "cell_type": "code",
      "source": [
        "fig = go.Figure([go.Bar(x=data['Category'].value_counts().index, y=data['Category'].value_counts().tolist())])\n",
        "fig.update_layout(\n",
        "    title=\"Values in each Category\",\n",
        "    xaxis_title=\"Video Category\",\n",
        "    yaxis_title=\"Values\")\n",
        "fig.show()"
      ],
      "metadata": {
        "colab": {
          "base_uri": "https://localhost:8080/",
          "height": 542
        },
        "id": "YYAppUiVawSI",
        "outputId": "30aaf25d-9e88-41af-a10b-dfb26559b0cc"
      },
      "execution_count": null,
      "outputs": [
        {
          "output_type": "display_data",
          "data": {
            "text/html": [
              "<html>\n",
              "<head><meta charset=\"utf-8\" /></head>\n",
              "<body>\n",
              "    <div>            <script src=\"https://cdnjs.cloudflare.com/ajax/libs/mathjax/2.7.5/MathJax.js?config=TeX-AMS-MML_SVG\"></script><script type=\"text/javascript\">if (window.MathJax && window.MathJax.Hub && window.MathJax.Hub.Config) {window.MathJax.Hub.Config({SVG: {font: \"STIX-Web\"}});}</script>                <script type=\"text/javascript\">window.PlotlyConfig = {MathJaxConfig: 'local'};</script>\n",
              "        <script src=\"https://cdn.plot.ly/plotly-2.18.2.min.js\"></script>                <div id=\"9da23c41-8efc-41b4-9ad3-26384e49b041\" class=\"plotly-graph-div\" style=\"height:525px; width:100%;\"></div>            <script type=\"text/javascript\">                                    window.PLOTLYENV=window.PLOTLYENV || {};                                    if (document.getElementById(\"9da23c41-8efc-41b4-9ad3-26384e49b041\")) {                    Plotly.newPlot(                        \"9da23c41-8efc-41b4-9ad3-26384e49b041\",                        [{\"x\":[\"travel blog\",\"Science&Technology\",\"Food\",\"Art&Music\",\"manufacturing\",\"History\"],\"y\":[2200,2074,1828,1765,1699,1645],\"type\":\"bar\"}],                        {\"template\":{\"data\":{\"histogram2dcontour\":[{\"type\":\"histogram2dcontour\",\"colorbar\":{\"outlinewidth\":0,\"ticks\":\"\"},\"colorscale\":[[0.0,\"#0d0887\"],[0.1111111111111111,\"#46039f\"],[0.2222222222222222,\"#7201a8\"],[0.3333333333333333,\"#9c179e\"],[0.4444444444444444,\"#bd3786\"],[0.5555555555555556,\"#d8576b\"],[0.6666666666666666,\"#ed7953\"],[0.7777777777777778,\"#fb9f3a\"],[0.8888888888888888,\"#fdca26\"],[1.0,\"#f0f921\"]]}],\"choropleth\":[{\"type\":\"choropleth\",\"colorbar\":{\"outlinewidth\":0,\"ticks\":\"\"}}],\"histogram2d\":[{\"type\":\"histogram2d\",\"colorbar\":{\"outlinewidth\":0,\"ticks\":\"\"},\"colorscale\":[[0.0,\"#0d0887\"],[0.1111111111111111,\"#46039f\"],[0.2222222222222222,\"#7201a8\"],[0.3333333333333333,\"#9c179e\"],[0.4444444444444444,\"#bd3786\"],[0.5555555555555556,\"#d8576b\"],[0.6666666666666666,\"#ed7953\"],[0.7777777777777778,\"#fb9f3a\"],[0.8888888888888888,\"#fdca26\"],[1.0,\"#f0f921\"]]}],\"heatmap\":[{\"type\":\"heatmap\",\"colorbar\":{\"outlinewidth\":0,\"ticks\":\"\"},\"colorscale\":[[0.0,\"#0d0887\"],[0.1111111111111111,\"#46039f\"],[0.2222222222222222,\"#7201a8\"],[0.3333333333333333,\"#9c179e\"],[0.4444444444444444,\"#bd3786\"],[0.5555555555555556,\"#d8576b\"],[0.6666666666666666,\"#ed7953\"],[0.7777777777777778,\"#fb9f3a\"],[0.8888888888888888,\"#fdca26\"],[1.0,\"#f0f921\"]]}],\"heatmapgl\":[{\"type\":\"heatmapgl\",\"colorbar\":{\"outlinewidth\":0,\"ticks\":\"\"},\"colorscale\":[[0.0,\"#0d0887\"],[0.1111111111111111,\"#46039f\"],[0.2222222222222222,\"#7201a8\"],[0.3333333333333333,\"#9c179e\"],[0.4444444444444444,\"#bd3786\"],[0.5555555555555556,\"#d8576b\"],[0.6666666666666666,\"#ed7953\"],[0.7777777777777778,\"#fb9f3a\"],[0.8888888888888888,\"#fdca26\"],[1.0,\"#f0f921\"]]}],\"contourcarpet\":[{\"type\":\"contourcarpet\",\"colorbar\":{\"outlinewidth\":0,\"ticks\":\"\"}}],\"contour\":[{\"type\":\"contour\",\"colorbar\":{\"outlinewidth\":0,\"ticks\":\"\"},\"colorscale\":[[0.0,\"#0d0887\"],[0.1111111111111111,\"#46039f\"],[0.2222222222222222,\"#7201a8\"],[0.3333333333333333,\"#9c179e\"],[0.4444444444444444,\"#bd3786\"],[0.5555555555555556,\"#d8576b\"],[0.6666666666666666,\"#ed7953\"],[0.7777777777777778,\"#fb9f3a\"],[0.8888888888888888,\"#fdca26\"],[1.0,\"#f0f921\"]]}],\"surface\":[{\"type\":\"surface\",\"colorbar\":{\"outlinewidth\":0,\"ticks\":\"\"},\"colorscale\":[[0.0,\"#0d0887\"],[0.1111111111111111,\"#46039f\"],[0.2222222222222222,\"#7201a8\"],[0.3333333333333333,\"#9c179e\"],[0.4444444444444444,\"#bd3786\"],[0.5555555555555556,\"#d8576b\"],[0.6666666666666666,\"#ed7953\"],[0.7777777777777778,\"#fb9f3a\"],[0.8888888888888888,\"#fdca26\"],[1.0,\"#f0f921\"]]}],\"mesh3d\":[{\"type\":\"mesh3d\",\"colorbar\":{\"outlinewidth\":0,\"ticks\":\"\"}}],\"scatter\":[{\"fillpattern\":{\"fillmode\":\"overlay\",\"size\":10,\"solidity\":0.2},\"type\":\"scatter\"}],\"parcoords\":[{\"type\":\"parcoords\",\"line\":{\"colorbar\":{\"outlinewidth\":0,\"ticks\":\"\"}}}],\"scatterpolargl\":[{\"type\":\"scatterpolargl\",\"marker\":{\"colorbar\":{\"outlinewidth\":0,\"ticks\":\"\"}}}],\"bar\":[{\"error_x\":{\"color\":\"#2a3f5f\"},\"error_y\":{\"color\":\"#2a3f5f\"},\"marker\":{\"line\":{\"color\":\"#E5ECF6\",\"width\":0.5},\"pattern\":{\"fillmode\":\"overlay\",\"size\":10,\"solidity\":0.2}},\"type\":\"bar\"}],\"scattergeo\":[{\"type\":\"scattergeo\",\"marker\":{\"colorbar\":{\"outlinewidth\":0,\"ticks\":\"\"}}}],\"scatterpolar\":[{\"type\":\"scatterpolar\",\"marker\":{\"colorbar\":{\"outlinewidth\":0,\"ticks\":\"\"}}}],\"histogram\":[{\"marker\":{\"pattern\":{\"fillmode\":\"overlay\",\"size\":10,\"solidity\":0.2}},\"type\":\"histogram\"}],\"scattergl\":[{\"type\":\"scattergl\",\"marker\":{\"colorbar\":{\"outlinewidth\":0,\"ticks\":\"\"}}}],\"scatter3d\":[{\"type\":\"scatter3d\",\"line\":{\"colorbar\":{\"outlinewidth\":0,\"ticks\":\"\"}},\"marker\":{\"colorbar\":{\"outlinewidth\":0,\"ticks\":\"\"}}}],\"scattermapbox\":[{\"type\":\"scattermapbox\",\"marker\":{\"colorbar\":{\"outlinewidth\":0,\"ticks\":\"\"}}}],\"scatterternary\":[{\"type\":\"scatterternary\",\"marker\":{\"colorbar\":{\"outlinewidth\":0,\"ticks\":\"\"}}}],\"scattercarpet\":[{\"type\":\"scattercarpet\",\"marker\":{\"colorbar\":{\"outlinewidth\":0,\"ticks\":\"\"}}}],\"carpet\":[{\"aaxis\":{\"endlinecolor\":\"#2a3f5f\",\"gridcolor\":\"white\",\"linecolor\":\"white\",\"minorgridcolor\":\"white\",\"startlinecolor\":\"#2a3f5f\"},\"baxis\":{\"endlinecolor\":\"#2a3f5f\",\"gridcolor\":\"white\",\"linecolor\":\"white\",\"minorgridcolor\":\"white\",\"startlinecolor\":\"#2a3f5f\"},\"type\":\"carpet\"}],\"table\":[{\"cells\":{\"fill\":{\"color\":\"#EBF0F8\"},\"line\":{\"color\":\"white\"}},\"header\":{\"fill\":{\"color\":\"#C8D4E3\"},\"line\":{\"color\":\"white\"}},\"type\":\"table\"}],\"barpolar\":[{\"marker\":{\"line\":{\"color\":\"#E5ECF6\",\"width\":0.5},\"pattern\":{\"fillmode\":\"overlay\",\"size\":10,\"solidity\":0.2}},\"type\":\"barpolar\"}],\"pie\":[{\"automargin\":true,\"type\":\"pie\"}]},\"layout\":{\"autotypenumbers\":\"strict\",\"colorway\":[\"#636efa\",\"#EF553B\",\"#00cc96\",\"#ab63fa\",\"#FFA15A\",\"#19d3f3\",\"#FF6692\",\"#B6E880\",\"#FF97FF\",\"#FECB52\"],\"font\":{\"color\":\"#2a3f5f\"},\"hovermode\":\"closest\",\"hoverlabel\":{\"align\":\"left\"},\"paper_bgcolor\":\"white\",\"plot_bgcolor\":\"#E5ECF6\",\"polar\":{\"bgcolor\":\"#E5ECF6\",\"angularaxis\":{\"gridcolor\":\"white\",\"linecolor\":\"white\",\"ticks\":\"\"},\"radialaxis\":{\"gridcolor\":\"white\",\"linecolor\":\"white\",\"ticks\":\"\"}},\"ternary\":{\"bgcolor\":\"#E5ECF6\",\"aaxis\":{\"gridcolor\":\"white\",\"linecolor\":\"white\",\"ticks\":\"\"},\"baxis\":{\"gridcolor\":\"white\",\"linecolor\":\"white\",\"ticks\":\"\"},\"caxis\":{\"gridcolor\":\"white\",\"linecolor\":\"white\",\"ticks\":\"\"}},\"coloraxis\":{\"colorbar\":{\"outlinewidth\":0,\"ticks\":\"\"}},\"colorscale\":{\"sequential\":[[0.0,\"#0d0887\"],[0.1111111111111111,\"#46039f\"],[0.2222222222222222,\"#7201a8\"],[0.3333333333333333,\"#9c179e\"],[0.4444444444444444,\"#bd3786\"],[0.5555555555555556,\"#d8576b\"],[0.6666666666666666,\"#ed7953\"],[0.7777777777777778,\"#fb9f3a\"],[0.8888888888888888,\"#fdca26\"],[1.0,\"#f0f921\"]],\"sequentialminus\":[[0.0,\"#0d0887\"],[0.1111111111111111,\"#46039f\"],[0.2222222222222222,\"#7201a8\"],[0.3333333333333333,\"#9c179e\"],[0.4444444444444444,\"#bd3786\"],[0.5555555555555556,\"#d8576b\"],[0.6666666666666666,\"#ed7953\"],[0.7777777777777778,\"#fb9f3a\"],[0.8888888888888888,\"#fdca26\"],[1.0,\"#f0f921\"]],\"diverging\":[[0,\"#8e0152\"],[0.1,\"#c51b7d\"],[0.2,\"#de77ae\"],[0.3,\"#f1b6da\"],[0.4,\"#fde0ef\"],[0.5,\"#f7f7f7\"],[0.6,\"#e6f5d0\"],[0.7,\"#b8e186\"],[0.8,\"#7fbc41\"],[0.9,\"#4d9221\"],[1,\"#276419\"]]},\"xaxis\":{\"gridcolor\":\"white\",\"linecolor\":\"white\",\"ticks\":\"\",\"title\":{\"standoff\":15},\"zerolinecolor\":\"white\",\"automargin\":true,\"zerolinewidth\":2},\"yaxis\":{\"gridcolor\":\"white\",\"linecolor\":\"white\",\"ticks\":\"\",\"title\":{\"standoff\":15},\"zerolinecolor\":\"white\",\"automargin\":true,\"zerolinewidth\":2},\"scene\":{\"xaxis\":{\"backgroundcolor\":\"#E5ECF6\",\"gridcolor\":\"white\",\"linecolor\":\"white\",\"showbackground\":true,\"ticks\":\"\",\"zerolinecolor\":\"white\",\"gridwidth\":2},\"yaxis\":{\"backgroundcolor\":\"#E5ECF6\",\"gridcolor\":\"white\",\"linecolor\":\"white\",\"showbackground\":true,\"ticks\":\"\",\"zerolinecolor\":\"white\",\"gridwidth\":2},\"zaxis\":{\"backgroundcolor\":\"#E5ECF6\",\"gridcolor\":\"white\",\"linecolor\":\"white\",\"showbackground\":true,\"ticks\":\"\",\"zerolinecolor\":\"white\",\"gridwidth\":2}},\"shapedefaults\":{\"line\":{\"color\":\"#2a3f5f\"}},\"annotationdefaults\":{\"arrowcolor\":\"#2a3f5f\",\"arrowhead\":0,\"arrowwidth\":1},\"geo\":{\"bgcolor\":\"white\",\"landcolor\":\"#E5ECF6\",\"subunitcolor\":\"white\",\"showland\":true,\"showlakes\":true,\"lakecolor\":\"white\"},\"title\":{\"x\":0.05},\"mapbox\":{\"style\":\"light\"}}},\"title\":{\"text\":\"Values in each Category\"},\"xaxis\":{\"title\":{\"text\":\"Video Category\"}},\"yaxis\":{\"title\":{\"text\":\"Values\"}}},                        {\"responsive\": true}                    ).then(function(){\n",
              "                            \n",
              "var gd = document.getElementById('9da23c41-8efc-41b4-9ad3-26384e49b041');\n",
              "var x = new MutationObserver(function (mutations, observer) {{\n",
              "        var display = window.getComputedStyle(gd).display;\n",
              "        if (!display || display === 'none') {{\n",
              "            console.log([gd, 'removed!']);\n",
              "            Plotly.purge(gd);\n",
              "            observer.disconnect();\n",
              "        }}\n",
              "}});\n",
              "\n",
              "// Listen for the removal of the full notebook cells\n",
              "var notebookContainer = gd.closest('#notebook-container');\n",
              "if (notebookContainer) {{\n",
              "    x.observe(notebookContainer, {childList: true});\n",
              "}}\n",
              "\n",
              "// Listen for the clearing of the current output cell\n",
              "var outputEl = gd.closest('.output');\n",
              "if (outputEl) {{\n",
              "    x.observe(outputEl, {childList: true});\n",
              "}}\n",
              "\n",
              "                        })                };                            </script>        </div>\n",
              "</body>\n",
              "</html>"
            ]
          },
          "metadata": {}
        }
      ]
    },
    {
      "cell_type": "markdown",
      "source": [
        "##Text Preprocessing"
      ],
      "metadata": {
        "id": "UJ2WMfcmb6i1"
      }
    },
    {
      "cell_type": "code",
      "source": [
        "data = data[[\"Title\",\"Category\"]]\n",
        "data = data[:11211]\n",
        "data.shape"
      ],
      "metadata": {
        "colab": {
          "base_uri": "https://localhost:8080/"
        },
        "id": "QbfGsOHxcAFh",
        "outputId": "adeed352-5265-4cd1-9d1b-f77fd8cf341d"
      },
      "execution_count": null,
      "outputs": [
        {
          "output_type": "execute_result",
          "data": {
            "text/plain": [
              "(11211, 2)"
            ]
          },
          "metadata": {},
          "execution_count": 11
        }
      ]
    },
    {
      "cell_type": "code",
      "source": [
        "data.head()"
      ],
      "metadata": {
        "colab": {
          "base_uri": "https://localhost:8080/",
          "height": 206
        },
        "id": "nO-hjkckfrI6",
        "outputId": "52f1c5c2-52b8-49f8-a56b-2f6ca132a8fd"
      },
      "execution_count": null,
      "outputs": [
        {
          "output_type": "execute_result",
          "data": {
            "text/plain": [
              "                                               Title       Category\n",
              "0  Weekend in North Goa 🌊 GOA TRAVEL VLOG | Kriti...    travel blog\n",
              "1                Jathar Textile Pvt Ltd Ichalkaranji  manufacturing\n",
              "2  Paddleboarding on the North Shore of Oahu, Hawaii           Food\n",
              "3                                  Common - The Food           Food\n",
              "4       Wayanad Pooppoli 2018 - വയനാട് പൂപ്പൊലി 2018    travel blog"
            ],
            "text/html": [
              "\n",
              "  <div id=\"df-2f7e61d8-e5b3-44cd-86a8-738df57f75db\">\n",
              "    <div class=\"colab-df-container\">\n",
              "      <div>\n",
              "<style scoped>\n",
              "    .dataframe tbody tr th:only-of-type {\n",
              "        vertical-align: middle;\n",
              "    }\n",
              "\n",
              "    .dataframe tbody tr th {\n",
              "        vertical-align: top;\n",
              "    }\n",
              "\n",
              "    .dataframe thead th {\n",
              "        text-align: right;\n",
              "    }\n",
              "</style>\n",
              "<table border=\"1\" class=\"dataframe\">\n",
              "  <thead>\n",
              "    <tr style=\"text-align: right;\">\n",
              "      <th></th>\n",
              "      <th>Title</th>\n",
              "      <th>Category</th>\n",
              "    </tr>\n",
              "  </thead>\n",
              "  <tbody>\n",
              "    <tr>\n",
              "      <th>0</th>\n",
              "      <td>Weekend in North Goa 🌊 GOA TRAVEL VLOG | Kriti...</td>\n",
              "      <td>travel blog</td>\n",
              "    </tr>\n",
              "    <tr>\n",
              "      <th>1</th>\n",
              "      <td>Jathar Textile Pvt Ltd Ichalkaranji</td>\n",
              "      <td>manufacturing</td>\n",
              "    </tr>\n",
              "    <tr>\n",
              "      <th>2</th>\n",
              "      <td>Paddleboarding on the North Shore of Oahu, Hawaii</td>\n",
              "      <td>Food</td>\n",
              "    </tr>\n",
              "    <tr>\n",
              "      <th>3</th>\n",
              "      <td>Common - The Food</td>\n",
              "      <td>Food</td>\n",
              "    </tr>\n",
              "    <tr>\n",
              "      <th>4</th>\n",
              "      <td>Wayanad Pooppoli 2018 - വയനാട് പൂപ്പൊലി 2018</td>\n",
              "      <td>travel blog</td>\n",
              "    </tr>\n",
              "  </tbody>\n",
              "</table>\n",
              "</div>\n",
              "      <button class=\"colab-df-convert\" onclick=\"convertToInteractive('df-2f7e61d8-e5b3-44cd-86a8-738df57f75db')\"\n",
              "              title=\"Convert this dataframe to an interactive table.\"\n",
              "              style=\"display:none;\">\n",
              "        \n",
              "  <svg xmlns=\"http://www.w3.org/2000/svg\" height=\"24px\"viewBox=\"0 0 24 24\"\n",
              "       width=\"24px\">\n",
              "    <path d=\"M0 0h24v24H0V0z\" fill=\"none\"/>\n",
              "    <path d=\"M18.56 5.44l.94 2.06.94-2.06 2.06-.94-2.06-.94-.94-2.06-.94 2.06-2.06.94zm-11 1L8.5 8.5l.94-2.06 2.06-.94-2.06-.94L8.5 2.5l-.94 2.06-2.06.94zm10 10l.94 2.06.94-2.06 2.06-.94-2.06-.94-.94-2.06-.94 2.06-2.06.94z\"/><path d=\"M17.41 7.96l-1.37-1.37c-.4-.4-.92-.59-1.43-.59-.52 0-1.04.2-1.43.59L10.3 9.45l-7.72 7.72c-.78.78-.78 2.05 0 2.83L4 21.41c.39.39.9.59 1.41.59.51 0 1.02-.2 1.41-.59l7.78-7.78 2.81-2.81c.8-.78.8-2.07 0-2.86zM5.41 20L4 18.59l7.72-7.72 1.47 1.35L5.41 20z\"/>\n",
              "  </svg>\n",
              "      </button>\n",
              "      \n",
              "  <style>\n",
              "    .colab-df-container {\n",
              "      display:flex;\n",
              "      flex-wrap:wrap;\n",
              "      gap: 12px;\n",
              "    }\n",
              "\n",
              "    .colab-df-convert {\n",
              "      background-color: #E8F0FE;\n",
              "      border: none;\n",
              "      border-radius: 50%;\n",
              "      cursor: pointer;\n",
              "      display: none;\n",
              "      fill: #1967D2;\n",
              "      height: 32px;\n",
              "      padding: 0 0 0 0;\n",
              "      width: 32px;\n",
              "    }\n",
              "\n",
              "    .colab-df-convert:hover {\n",
              "      background-color: #E2EBFA;\n",
              "      box-shadow: 0px 1px 2px rgba(60, 64, 67, 0.3), 0px 1px 3px 1px rgba(60, 64, 67, 0.15);\n",
              "      fill: #174EA6;\n",
              "    }\n",
              "\n",
              "    [theme=dark] .colab-df-convert {\n",
              "      background-color: #3B4455;\n",
              "      fill: #D2E3FC;\n",
              "    }\n",
              "\n",
              "    [theme=dark] .colab-df-convert:hover {\n",
              "      background-color: #434B5C;\n",
              "      box-shadow: 0px 1px 3px 1px rgba(0, 0, 0, 0.15);\n",
              "      filter: drop-shadow(0px 1px 2px rgba(0, 0, 0, 0.3));\n",
              "      fill: #FFFFFF;\n",
              "    }\n",
              "  </style>\n",
              "\n",
              "      <script>\n",
              "        const buttonEl =\n",
              "          document.querySelector('#df-2f7e61d8-e5b3-44cd-86a8-738df57f75db button.colab-df-convert');\n",
              "        buttonEl.style.display =\n",
              "          google.colab.kernel.accessAllowed ? 'block' : 'none';\n",
              "\n",
              "        async function convertToInteractive(key) {\n",
              "          const element = document.querySelector('#df-2f7e61d8-e5b3-44cd-86a8-738df57f75db');\n",
              "          const dataTable =\n",
              "            await google.colab.kernel.invokeFunction('convertToInteractive',\n",
              "                                                     [key], {});\n",
              "          if (!dataTable) return;\n",
              "\n",
              "          const docLinkHtml = 'Like what you see? Visit the ' +\n",
              "            '<a target=\"_blank\" href=https://colab.research.google.com/notebooks/data_table.ipynb>data table notebook</a>'\n",
              "            + ' to learn more about interactive tables.';\n",
              "          element.innerHTML = '';\n",
              "          dataTable['output_type'] = 'display_data';\n",
              "          await google.colab.output.renderOutput(dataTable, element);\n",
              "          const docLink = document.createElement('div');\n",
              "          docLink.innerHTML = docLinkHtml;\n",
              "          element.appendChild(docLink);\n",
              "        }\n",
              "      </script>\n",
              "    </div>\n",
              "  </div>\n",
              "  "
            ]
          },
          "metadata": {},
          "execution_count": 12
        }
      ]
    },
    {
      "cell_type": "markdown",
      "source": [
        "##Text Cleaning"
      ],
      "metadata": {
        "id": "YFNfyfzKhBX2"
      }
    },
    {
      "cell_type": "code",
      "source": [
        "import spacy\n",
        "nlp = spacy.load('en_core_web_sm')\n",
        "\n",
        "import nltk\n",
        "nltk.download('wordnet')\n",
        "\n",
        "stopwords = _stop_words.ENGLISH_STOP_WORDS\n",
        "lemmatizer = WordNetLemmatizer()\n",
        "\n",
        "def clean(doc):\n",
        "    text_no_namedentities = []\n",
        "    document = nlp(doc)\n",
        "    ents = [e.text for e in document.ents]\n",
        "    for item in document:\n",
        "        if item.text in ents:\n",
        "            pass\n",
        "        else:\n",
        "            text_no_namedentities.append(item.text)\n",
        "    doc = (\" \".join(text_no_namedentities))\n",
        "\n",
        "    doc = doc.lower().strip()\n",
        "    doc = doc.replace(\"</br>\", \" \")\n",
        "    doc = doc.replace(\"-\", \" \")\n",
        "    doc = \"\".join([char for char in doc if char not in string.punctuation and not char.isdigit()])\n",
        "    doc = \" \".join([token for token in doc.split() if token not in stopwords])\n",
        "    doc = \"\".join([lemmatizer.lemmatize(word) for word in doc])\n",
        "    return doc"
      ],
      "metadata": {
        "colab": {
          "base_uri": "https://localhost:8080/"
        },
        "id": "Gu7APeAChEK7",
        "outputId": "4ba4b1e3-950d-4b6e-f723-839c4f394dcd"
      },
      "execution_count": null,
      "outputs": [
        {
          "output_type": "stream",
          "name": "stderr",
          "text": [
            "[nltk_data] Downloading package wordnet to /root/nltk_data...\n",
            "[nltk_data]   Package wordnet is already up-to-date!\n"
          ]
        }
      ]
    },
    {
      "cell_type": "code",
      "source": [
        "clean(data['Title'][0])"
      ],
      "metadata": {
        "colab": {
          "base_uri": "https://localhost:8080/",
          "height": 36
        },
        "id": "AOOjCY9Pi2gC",
        "outputId": "210272ed-1f7f-41f2-b46c-a456744aad12"
      },
      "execution_count": null,
      "outputs": [
        {
          "output_type": "execute_result",
          "data": {
            "text/plain": [
              "'weekend north goa 🌊 goa travel vlog kritika goel'"
            ],
            "application/vnd.google.colaboratory.intrinsic+json": {
              "type": "string"
            }
          },
          "metadata": {},
          "execution_count": 14
        }
      ]
    },
    {
      "cell_type": "code",
      "source": [
        "data['Title'] = data['Title'].apply(clean)\n",
        "data.head()"
      ],
      "metadata": {
        "colab": {
          "base_uri": "https://localhost:8080/",
          "height": 206
        },
        "id": "4uTXsxgUjfFe",
        "outputId": "f29fe3d2-c32a-4c3c-8820-0e36ca94b27a"
      },
      "execution_count": null,
      "outputs": [
        {
          "output_type": "execute_result",
          "data": {
            "text/plain": [
              "                                              Title       Category\n",
              "0  weekend north goa 🌊 goa travel vlog kritika goel    travel blog\n",
              "1                   jathar textile pvt ichalkaranji  manufacturing\n",
              "2                        paddleboarding north shore           Food\n",
              "3                                       common food           Food\n",
              "4                                   വയനാട് പൂപ്പൊലി    travel blog"
            ],
            "text/html": [
              "\n",
              "  <div id=\"df-75599a14-e941-44ab-90e1-50954d51e338\">\n",
              "    <div class=\"colab-df-container\">\n",
              "      <div>\n",
              "<style scoped>\n",
              "    .dataframe tbody tr th:only-of-type {\n",
              "        vertical-align: middle;\n",
              "    }\n",
              "\n",
              "    .dataframe tbody tr th {\n",
              "        vertical-align: top;\n",
              "    }\n",
              "\n",
              "    .dataframe thead th {\n",
              "        text-align: right;\n",
              "    }\n",
              "</style>\n",
              "<table border=\"1\" class=\"dataframe\">\n",
              "  <thead>\n",
              "    <tr style=\"text-align: right;\">\n",
              "      <th></th>\n",
              "      <th>Title</th>\n",
              "      <th>Category</th>\n",
              "    </tr>\n",
              "  </thead>\n",
              "  <tbody>\n",
              "    <tr>\n",
              "      <th>0</th>\n",
              "      <td>weekend north goa 🌊 goa travel vlog kritika goel</td>\n",
              "      <td>travel blog</td>\n",
              "    </tr>\n",
              "    <tr>\n",
              "      <th>1</th>\n",
              "      <td>jathar textile pvt ichalkaranji</td>\n",
              "      <td>manufacturing</td>\n",
              "    </tr>\n",
              "    <tr>\n",
              "      <th>2</th>\n",
              "      <td>paddleboarding north shore</td>\n",
              "      <td>Food</td>\n",
              "    </tr>\n",
              "    <tr>\n",
              "      <th>3</th>\n",
              "      <td>common food</td>\n",
              "      <td>Food</td>\n",
              "    </tr>\n",
              "    <tr>\n",
              "      <th>4</th>\n",
              "      <td>വയനാട് പൂപ്പൊലി</td>\n",
              "      <td>travel blog</td>\n",
              "    </tr>\n",
              "  </tbody>\n",
              "</table>\n",
              "</div>\n",
              "      <button class=\"colab-df-convert\" onclick=\"convertToInteractive('df-75599a14-e941-44ab-90e1-50954d51e338')\"\n",
              "              title=\"Convert this dataframe to an interactive table.\"\n",
              "              style=\"display:none;\">\n",
              "        \n",
              "  <svg xmlns=\"http://www.w3.org/2000/svg\" height=\"24px\"viewBox=\"0 0 24 24\"\n",
              "       width=\"24px\">\n",
              "    <path d=\"M0 0h24v24H0V0z\" fill=\"none\"/>\n",
              "    <path d=\"M18.56 5.44l.94 2.06.94-2.06 2.06-.94-2.06-.94-.94-2.06-.94 2.06-2.06.94zm-11 1L8.5 8.5l.94-2.06 2.06-.94-2.06-.94L8.5 2.5l-.94 2.06-2.06.94zm10 10l.94 2.06.94-2.06 2.06-.94-2.06-.94-.94-2.06-.94 2.06-2.06.94z\"/><path d=\"M17.41 7.96l-1.37-1.37c-.4-.4-.92-.59-1.43-.59-.52 0-1.04.2-1.43.59L10.3 9.45l-7.72 7.72c-.78.78-.78 2.05 0 2.83L4 21.41c.39.39.9.59 1.41.59.51 0 1.02-.2 1.41-.59l7.78-7.78 2.81-2.81c.8-.78.8-2.07 0-2.86zM5.41 20L4 18.59l7.72-7.72 1.47 1.35L5.41 20z\"/>\n",
              "  </svg>\n",
              "      </button>\n",
              "      \n",
              "  <style>\n",
              "    .colab-df-container {\n",
              "      display:flex;\n",
              "      flex-wrap:wrap;\n",
              "      gap: 12px;\n",
              "    }\n",
              "\n",
              "    .colab-df-convert {\n",
              "      background-color: #E8F0FE;\n",
              "      border: none;\n",
              "      border-radius: 50%;\n",
              "      cursor: pointer;\n",
              "      display: none;\n",
              "      fill: #1967D2;\n",
              "      height: 32px;\n",
              "      padding: 0 0 0 0;\n",
              "      width: 32px;\n",
              "    }\n",
              "\n",
              "    .colab-df-convert:hover {\n",
              "      background-color: #E2EBFA;\n",
              "      box-shadow: 0px 1px 2px rgba(60, 64, 67, 0.3), 0px 1px 3px 1px rgba(60, 64, 67, 0.15);\n",
              "      fill: #174EA6;\n",
              "    }\n",
              "\n",
              "    [theme=dark] .colab-df-convert {\n",
              "      background-color: #3B4455;\n",
              "      fill: #D2E3FC;\n",
              "    }\n",
              "\n",
              "    [theme=dark] .colab-df-convert:hover {\n",
              "      background-color: #434B5C;\n",
              "      box-shadow: 0px 1px 3px 1px rgba(0, 0, 0, 0.15);\n",
              "      filter: drop-shadow(0px 1px 2px rgba(0, 0, 0, 0.3));\n",
              "      fill: #FFFFFF;\n",
              "    }\n",
              "  </style>\n",
              "\n",
              "      <script>\n",
              "        const buttonEl =\n",
              "          document.querySelector('#df-75599a14-e941-44ab-90e1-50954d51e338 button.colab-df-convert');\n",
              "        buttonEl.style.display =\n",
              "          google.colab.kernel.accessAllowed ? 'block' : 'none';\n",
              "\n",
              "        async function convertToInteractive(key) {\n",
              "          const element = document.querySelector('#df-75599a14-e941-44ab-90e1-50954d51e338');\n",
              "          const dataTable =\n",
              "            await google.colab.kernel.invokeFunction('convertToInteractive',\n",
              "                                                     [key], {});\n",
              "          if (!dataTable) return;\n",
              "\n",
              "          const docLinkHtml = 'Like what you see? Visit the ' +\n",
              "            '<a target=\"_blank\" href=https://colab.research.google.com/notebooks/data_table.ipynb>data table notebook</a>'\n",
              "            + ' to learn more about interactive tables.';\n",
              "          element.innerHTML = '';\n",
              "          dataTable['output_type'] = 'display_data';\n",
              "          await google.colab.output.renderOutput(dataTable, element);\n",
              "          const docLink = document.createElement('div');\n",
              "          docLink.innerHTML = docLinkHtml;\n",
              "          element.appendChild(docLink);\n",
              "        }\n",
              "      </script>\n",
              "    </div>\n",
              "  </div>\n",
              "  "
            ]
          },
          "metadata": {},
          "execution_count": 15
        }
      ]
    },
    {
      "cell_type": "markdown",
      "source": [
        "##TF-IDF Vectorizer"
      ],
      "metadata": {
        "id": "hYFug7i-kpoo"
      }
    },
    {
      "cell_type": "code",
      "source": [
        "docs = list(data['Title'])\n",
        "tfidf_vectorizer = TfidfVectorizer(use_idf=True, max_features = 20000)\n",
        "tfidf_vectorizer_vectors = tfidf_vectorizer.fit_transform(docs)\n",
        "docs = tfidf_vectorizer_vectors.toarray()"
      ],
      "metadata": {
        "id": "KpbSQD8HkwAb"
      },
      "execution_count": null,
      "outputs": []
    },
    {
      "cell_type": "code",
      "source": [
        "X = docs\n",
        "y = data['Category']\n",
        "print(X.shape, y.shape)"
      ],
      "metadata": {
        "colab": {
          "base_uri": "https://localhost:8080/"
        },
        "id": "ne5CjGaHl4tx",
        "outputId": "12089fb6-6828-48c1-dd09-593cb1c7f5a6"
      },
      "execution_count": null,
      "outputs": [
        {
          "output_type": "stream",
          "name": "stdout",
          "text": [
            "(11211, 13740) (11211,)\n"
          ]
        }
      ]
    },
    {
      "cell_type": "code",
      "source": [
        "fig = go.Figure([go.Bar(x=y.value_counts().index, y=y.value_counts().tolist())])\n",
        "fig.update_layout(\n",
        "    title=\"Values in each Category\",\n",
        "    xaxis_title=\"Video Category\",\n",
        "    yaxis_title=\"Values\")\n",
        "fig.show()"
      ],
      "metadata": {
        "colab": {
          "base_uri": "https://localhost:8080/",
          "height": 542
        },
        "id": "DGhbbVCAnFJv",
        "outputId": "50b609b4-0f7e-409b-89e3-7b80ff47b4f9"
      },
      "execution_count": null,
      "outputs": [
        {
          "output_type": "display_data",
          "data": {
            "text/html": [
              "<html>\n",
              "<head><meta charset=\"utf-8\" /></head>\n",
              "<body>\n",
              "    <div>            <script src=\"https://cdnjs.cloudflare.com/ajax/libs/mathjax/2.7.5/MathJax.js?config=TeX-AMS-MML_SVG\"></script><script type=\"text/javascript\">if (window.MathJax && window.MathJax.Hub && window.MathJax.Hub.Config) {window.MathJax.Hub.Config({SVG: {font: \"STIX-Web\"}});}</script>                <script type=\"text/javascript\">window.PlotlyConfig = {MathJaxConfig: 'local'};</script>\n",
              "        <script src=\"https://cdn.plot.ly/plotly-2.18.2.min.js\"></script>                <div id=\"87cfcae3-8175-49b5-b3c1-5de981719be2\" class=\"plotly-graph-div\" style=\"height:525px; width:100%;\"></div>            <script type=\"text/javascript\">                                    window.PLOTLYENV=window.PLOTLYENV || {};                                    if (document.getElementById(\"87cfcae3-8175-49b5-b3c1-5de981719be2\")) {                    Plotly.newPlot(                        \"87cfcae3-8175-49b5-b3c1-5de981719be2\",                        [{\"x\":[\"travel blog\",\"Science&Technology\",\"Food\",\"Art&Music\",\"manufacturing\",\"History\"],\"y\":[2200,2074,1828,1765,1699,1645],\"type\":\"bar\"}],                        {\"template\":{\"data\":{\"histogram2dcontour\":[{\"type\":\"histogram2dcontour\",\"colorbar\":{\"outlinewidth\":0,\"ticks\":\"\"},\"colorscale\":[[0.0,\"#0d0887\"],[0.1111111111111111,\"#46039f\"],[0.2222222222222222,\"#7201a8\"],[0.3333333333333333,\"#9c179e\"],[0.4444444444444444,\"#bd3786\"],[0.5555555555555556,\"#d8576b\"],[0.6666666666666666,\"#ed7953\"],[0.7777777777777778,\"#fb9f3a\"],[0.8888888888888888,\"#fdca26\"],[1.0,\"#f0f921\"]]}],\"choropleth\":[{\"type\":\"choropleth\",\"colorbar\":{\"outlinewidth\":0,\"ticks\":\"\"}}],\"histogram2d\":[{\"type\":\"histogram2d\",\"colorbar\":{\"outlinewidth\":0,\"ticks\":\"\"},\"colorscale\":[[0.0,\"#0d0887\"],[0.1111111111111111,\"#46039f\"],[0.2222222222222222,\"#7201a8\"],[0.3333333333333333,\"#9c179e\"],[0.4444444444444444,\"#bd3786\"],[0.5555555555555556,\"#d8576b\"],[0.6666666666666666,\"#ed7953\"],[0.7777777777777778,\"#fb9f3a\"],[0.8888888888888888,\"#fdca26\"],[1.0,\"#f0f921\"]]}],\"heatmap\":[{\"type\":\"heatmap\",\"colorbar\":{\"outlinewidth\":0,\"ticks\":\"\"},\"colorscale\":[[0.0,\"#0d0887\"],[0.1111111111111111,\"#46039f\"],[0.2222222222222222,\"#7201a8\"],[0.3333333333333333,\"#9c179e\"],[0.4444444444444444,\"#bd3786\"],[0.5555555555555556,\"#d8576b\"],[0.6666666666666666,\"#ed7953\"],[0.7777777777777778,\"#fb9f3a\"],[0.8888888888888888,\"#fdca26\"],[1.0,\"#f0f921\"]]}],\"heatmapgl\":[{\"type\":\"heatmapgl\",\"colorbar\":{\"outlinewidth\":0,\"ticks\":\"\"},\"colorscale\":[[0.0,\"#0d0887\"],[0.1111111111111111,\"#46039f\"],[0.2222222222222222,\"#7201a8\"],[0.3333333333333333,\"#9c179e\"],[0.4444444444444444,\"#bd3786\"],[0.5555555555555556,\"#d8576b\"],[0.6666666666666666,\"#ed7953\"],[0.7777777777777778,\"#fb9f3a\"],[0.8888888888888888,\"#fdca26\"],[1.0,\"#f0f921\"]]}],\"contourcarpet\":[{\"type\":\"contourcarpet\",\"colorbar\":{\"outlinewidth\":0,\"ticks\":\"\"}}],\"contour\":[{\"type\":\"contour\",\"colorbar\":{\"outlinewidth\":0,\"ticks\":\"\"},\"colorscale\":[[0.0,\"#0d0887\"],[0.1111111111111111,\"#46039f\"],[0.2222222222222222,\"#7201a8\"],[0.3333333333333333,\"#9c179e\"],[0.4444444444444444,\"#bd3786\"],[0.5555555555555556,\"#d8576b\"],[0.6666666666666666,\"#ed7953\"],[0.7777777777777778,\"#fb9f3a\"],[0.8888888888888888,\"#fdca26\"],[1.0,\"#f0f921\"]]}],\"surface\":[{\"type\":\"surface\",\"colorbar\":{\"outlinewidth\":0,\"ticks\":\"\"},\"colorscale\":[[0.0,\"#0d0887\"],[0.1111111111111111,\"#46039f\"],[0.2222222222222222,\"#7201a8\"],[0.3333333333333333,\"#9c179e\"],[0.4444444444444444,\"#bd3786\"],[0.5555555555555556,\"#d8576b\"],[0.6666666666666666,\"#ed7953\"],[0.7777777777777778,\"#fb9f3a\"],[0.8888888888888888,\"#fdca26\"],[1.0,\"#f0f921\"]]}],\"mesh3d\":[{\"type\":\"mesh3d\",\"colorbar\":{\"outlinewidth\":0,\"ticks\":\"\"}}],\"scatter\":[{\"fillpattern\":{\"fillmode\":\"overlay\",\"size\":10,\"solidity\":0.2},\"type\":\"scatter\"}],\"parcoords\":[{\"type\":\"parcoords\",\"line\":{\"colorbar\":{\"outlinewidth\":0,\"ticks\":\"\"}}}],\"scatterpolargl\":[{\"type\":\"scatterpolargl\",\"marker\":{\"colorbar\":{\"outlinewidth\":0,\"ticks\":\"\"}}}],\"bar\":[{\"error_x\":{\"color\":\"#2a3f5f\"},\"error_y\":{\"color\":\"#2a3f5f\"},\"marker\":{\"line\":{\"color\":\"#E5ECF6\",\"width\":0.5},\"pattern\":{\"fillmode\":\"overlay\",\"size\":10,\"solidity\":0.2}},\"type\":\"bar\"}],\"scattergeo\":[{\"type\":\"scattergeo\",\"marker\":{\"colorbar\":{\"outlinewidth\":0,\"ticks\":\"\"}}}],\"scatterpolar\":[{\"type\":\"scatterpolar\",\"marker\":{\"colorbar\":{\"outlinewidth\":0,\"ticks\":\"\"}}}],\"histogram\":[{\"marker\":{\"pattern\":{\"fillmode\":\"overlay\",\"size\":10,\"solidity\":0.2}},\"type\":\"histogram\"}],\"scattergl\":[{\"type\":\"scattergl\",\"marker\":{\"colorbar\":{\"outlinewidth\":0,\"ticks\":\"\"}}}],\"scatter3d\":[{\"type\":\"scatter3d\",\"line\":{\"colorbar\":{\"outlinewidth\":0,\"ticks\":\"\"}},\"marker\":{\"colorbar\":{\"outlinewidth\":0,\"ticks\":\"\"}}}],\"scattermapbox\":[{\"type\":\"scattermapbox\",\"marker\":{\"colorbar\":{\"outlinewidth\":0,\"ticks\":\"\"}}}],\"scatterternary\":[{\"type\":\"scatterternary\",\"marker\":{\"colorbar\":{\"outlinewidth\":0,\"ticks\":\"\"}}}],\"scattercarpet\":[{\"type\":\"scattercarpet\",\"marker\":{\"colorbar\":{\"outlinewidth\":0,\"ticks\":\"\"}}}],\"carpet\":[{\"aaxis\":{\"endlinecolor\":\"#2a3f5f\",\"gridcolor\":\"white\",\"linecolor\":\"white\",\"minorgridcolor\":\"white\",\"startlinecolor\":\"#2a3f5f\"},\"baxis\":{\"endlinecolor\":\"#2a3f5f\",\"gridcolor\":\"white\",\"linecolor\":\"white\",\"minorgridcolor\":\"white\",\"startlinecolor\":\"#2a3f5f\"},\"type\":\"carpet\"}],\"table\":[{\"cells\":{\"fill\":{\"color\":\"#EBF0F8\"},\"line\":{\"color\":\"white\"}},\"header\":{\"fill\":{\"color\":\"#C8D4E3\"},\"line\":{\"color\":\"white\"}},\"type\":\"table\"}],\"barpolar\":[{\"marker\":{\"line\":{\"color\":\"#E5ECF6\",\"width\":0.5},\"pattern\":{\"fillmode\":\"overlay\",\"size\":10,\"solidity\":0.2}},\"type\":\"barpolar\"}],\"pie\":[{\"automargin\":true,\"type\":\"pie\"}]},\"layout\":{\"autotypenumbers\":\"strict\",\"colorway\":[\"#636efa\",\"#EF553B\",\"#00cc96\",\"#ab63fa\",\"#FFA15A\",\"#19d3f3\",\"#FF6692\",\"#B6E880\",\"#FF97FF\",\"#FECB52\"],\"font\":{\"color\":\"#2a3f5f\"},\"hovermode\":\"closest\",\"hoverlabel\":{\"align\":\"left\"},\"paper_bgcolor\":\"white\",\"plot_bgcolor\":\"#E5ECF6\",\"polar\":{\"bgcolor\":\"#E5ECF6\",\"angularaxis\":{\"gridcolor\":\"white\",\"linecolor\":\"white\",\"ticks\":\"\"},\"radialaxis\":{\"gridcolor\":\"white\",\"linecolor\":\"white\",\"ticks\":\"\"}},\"ternary\":{\"bgcolor\":\"#E5ECF6\",\"aaxis\":{\"gridcolor\":\"white\",\"linecolor\":\"white\",\"ticks\":\"\"},\"baxis\":{\"gridcolor\":\"white\",\"linecolor\":\"white\",\"ticks\":\"\"},\"caxis\":{\"gridcolor\":\"white\",\"linecolor\":\"white\",\"ticks\":\"\"}},\"coloraxis\":{\"colorbar\":{\"outlinewidth\":0,\"ticks\":\"\"}},\"colorscale\":{\"sequential\":[[0.0,\"#0d0887\"],[0.1111111111111111,\"#46039f\"],[0.2222222222222222,\"#7201a8\"],[0.3333333333333333,\"#9c179e\"],[0.4444444444444444,\"#bd3786\"],[0.5555555555555556,\"#d8576b\"],[0.6666666666666666,\"#ed7953\"],[0.7777777777777778,\"#fb9f3a\"],[0.8888888888888888,\"#fdca26\"],[1.0,\"#f0f921\"]],\"sequentialminus\":[[0.0,\"#0d0887\"],[0.1111111111111111,\"#46039f\"],[0.2222222222222222,\"#7201a8\"],[0.3333333333333333,\"#9c179e\"],[0.4444444444444444,\"#bd3786\"],[0.5555555555555556,\"#d8576b\"],[0.6666666666666666,\"#ed7953\"],[0.7777777777777778,\"#fb9f3a\"],[0.8888888888888888,\"#fdca26\"],[1.0,\"#f0f921\"]],\"diverging\":[[0,\"#8e0152\"],[0.1,\"#c51b7d\"],[0.2,\"#de77ae\"],[0.3,\"#f1b6da\"],[0.4,\"#fde0ef\"],[0.5,\"#f7f7f7\"],[0.6,\"#e6f5d0\"],[0.7,\"#b8e186\"],[0.8,\"#7fbc41\"],[0.9,\"#4d9221\"],[1,\"#276419\"]]},\"xaxis\":{\"gridcolor\":\"white\",\"linecolor\":\"white\",\"ticks\":\"\",\"title\":{\"standoff\":15},\"zerolinecolor\":\"white\",\"automargin\":true,\"zerolinewidth\":2},\"yaxis\":{\"gridcolor\":\"white\",\"linecolor\":\"white\",\"ticks\":\"\",\"title\":{\"standoff\":15},\"zerolinecolor\":\"white\",\"automargin\":true,\"zerolinewidth\":2},\"scene\":{\"xaxis\":{\"backgroundcolor\":\"#E5ECF6\",\"gridcolor\":\"white\",\"linecolor\":\"white\",\"showbackground\":true,\"ticks\":\"\",\"zerolinecolor\":\"white\",\"gridwidth\":2},\"yaxis\":{\"backgroundcolor\":\"#E5ECF6\",\"gridcolor\":\"white\",\"linecolor\":\"white\",\"showbackground\":true,\"ticks\":\"\",\"zerolinecolor\":\"white\",\"gridwidth\":2},\"zaxis\":{\"backgroundcolor\":\"#E5ECF6\",\"gridcolor\":\"white\",\"linecolor\":\"white\",\"showbackground\":true,\"ticks\":\"\",\"zerolinecolor\":\"white\",\"gridwidth\":2}},\"shapedefaults\":{\"line\":{\"color\":\"#2a3f5f\"}},\"annotationdefaults\":{\"arrowcolor\":\"#2a3f5f\",\"arrowhead\":0,\"arrowwidth\":1},\"geo\":{\"bgcolor\":\"white\",\"landcolor\":\"#E5ECF6\",\"subunitcolor\":\"white\",\"showland\":true,\"showlakes\":true,\"lakecolor\":\"white\"},\"title\":{\"x\":0.05},\"mapbox\":{\"style\":\"light\"}}},\"title\":{\"text\":\"Values in each Category\"},\"xaxis\":{\"title\":{\"text\":\"Video Category\"}},\"yaxis\":{\"title\":{\"text\":\"Values\"}}},                        {\"responsive\": true}                    ).then(function(){\n",
              "                            \n",
              "var gd = document.getElementById('87cfcae3-8175-49b5-b3c1-5de981719be2');\n",
              "var x = new MutationObserver(function (mutations, observer) {{\n",
              "        var display = window.getComputedStyle(gd).display;\n",
              "        if (!display || display === 'none') {{\n",
              "            console.log([gd, 'removed!']);\n",
              "            Plotly.purge(gd);\n",
              "            observer.disconnect();\n",
              "        }}\n",
              "}});\n",
              "\n",
              "// Listen for the removal of the full notebook cells\n",
              "var notebookContainer = gd.closest('#notebook-container');\n",
              "if (notebookContainer) {{\n",
              "    x.observe(notebookContainer, {childList: true});\n",
              "}}\n",
              "\n",
              "// Listen for the clearing of the current output cell\n",
              "var outputEl = gd.closest('.output');\n",
              "if (outputEl) {{\n",
              "    x.observe(outputEl, {childList: true});\n",
              "}}\n",
              "\n",
              "                        })                };                            </script>        </div>\n",
              "</body>\n",
              "</html>"
            ]
          },
          "metadata": {}
        }
      ]
    },
    {
      "cell_type": "code",
      "source": [
        "data.head()"
      ],
      "metadata": {
        "colab": {
          "base_uri": "https://localhost:8080/",
          "height": 206
        },
        "id": "CBIcisaplLEp",
        "outputId": "7b1565e7-66a3-4726-8e33-1b953073f659"
      },
      "execution_count": null,
      "outputs": [
        {
          "output_type": "execute_result",
          "data": {
            "text/plain": [
              "                                              Title       Category\n",
              "0  weekend north goa 🌊 goa travel vlog kritika goel    travel blog\n",
              "1                   jathar textile pvt ichalkaranji  manufacturing\n",
              "2                        paddleboarding north shore           Food\n",
              "3                                       common food           Food\n",
              "4                                   വയനാട് പൂപ്പൊലി    travel blog"
            ],
            "text/html": [
              "\n",
              "  <div id=\"df-0b1388f6-c81d-48e2-94fb-e0a213678cd2\">\n",
              "    <div class=\"colab-df-container\">\n",
              "      <div>\n",
              "<style scoped>\n",
              "    .dataframe tbody tr th:only-of-type {\n",
              "        vertical-align: middle;\n",
              "    }\n",
              "\n",
              "    .dataframe tbody tr th {\n",
              "        vertical-align: top;\n",
              "    }\n",
              "\n",
              "    .dataframe thead th {\n",
              "        text-align: right;\n",
              "    }\n",
              "</style>\n",
              "<table border=\"1\" class=\"dataframe\">\n",
              "  <thead>\n",
              "    <tr style=\"text-align: right;\">\n",
              "      <th></th>\n",
              "      <th>Title</th>\n",
              "      <th>Category</th>\n",
              "    </tr>\n",
              "  </thead>\n",
              "  <tbody>\n",
              "    <tr>\n",
              "      <th>0</th>\n",
              "      <td>weekend north goa 🌊 goa travel vlog kritika goel</td>\n",
              "      <td>travel blog</td>\n",
              "    </tr>\n",
              "    <tr>\n",
              "      <th>1</th>\n",
              "      <td>jathar textile pvt ichalkaranji</td>\n",
              "      <td>manufacturing</td>\n",
              "    </tr>\n",
              "    <tr>\n",
              "      <th>2</th>\n",
              "      <td>paddleboarding north shore</td>\n",
              "      <td>Food</td>\n",
              "    </tr>\n",
              "    <tr>\n",
              "      <th>3</th>\n",
              "      <td>common food</td>\n",
              "      <td>Food</td>\n",
              "    </tr>\n",
              "    <tr>\n",
              "      <th>4</th>\n",
              "      <td>വയനാട് പൂപ്പൊലി</td>\n",
              "      <td>travel blog</td>\n",
              "    </tr>\n",
              "  </tbody>\n",
              "</table>\n",
              "</div>\n",
              "      <button class=\"colab-df-convert\" onclick=\"convertToInteractive('df-0b1388f6-c81d-48e2-94fb-e0a213678cd2')\"\n",
              "              title=\"Convert this dataframe to an interactive table.\"\n",
              "              style=\"display:none;\">\n",
              "        \n",
              "  <svg xmlns=\"http://www.w3.org/2000/svg\" height=\"24px\"viewBox=\"0 0 24 24\"\n",
              "       width=\"24px\">\n",
              "    <path d=\"M0 0h24v24H0V0z\" fill=\"none\"/>\n",
              "    <path d=\"M18.56 5.44l.94 2.06.94-2.06 2.06-.94-2.06-.94-.94-2.06-.94 2.06-2.06.94zm-11 1L8.5 8.5l.94-2.06 2.06-.94-2.06-.94L8.5 2.5l-.94 2.06-2.06.94zm10 10l.94 2.06.94-2.06 2.06-.94-2.06-.94-.94-2.06-.94 2.06-2.06.94z\"/><path d=\"M17.41 7.96l-1.37-1.37c-.4-.4-.92-.59-1.43-.59-.52 0-1.04.2-1.43.59L10.3 9.45l-7.72 7.72c-.78.78-.78 2.05 0 2.83L4 21.41c.39.39.9.59 1.41.59.51 0 1.02-.2 1.41-.59l7.78-7.78 2.81-2.81c.8-.78.8-2.07 0-2.86zM5.41 20L4 18.59l7.72-7.72 1.47 1.35L5.41 20z\"/>\n",
              "  </svg>\n",
              "      </button>\n",
              "      \n",
              "  <style>\n",
              "    .colab-df-container {\n",
              "      display:flex;\n",
              "      flex-wrap:wrap;\n",
              "      gap: 12px;\n",
              "    }\n",
              "\n",
              "    .colab-df-convert {\n",
              "      background-color: #E8F0FE;\n",
              "      border: none;\n",
              "      border-radius: 50%;\n",
              "      cursor: pointer;\n",
              "      display: none;\n",
              "      fill: #1967D2;\n",
              "      height: 32px;\n",
              "      padding: 0 0 0 0;\n",
              "      width: 32px;\n",
              "    }\n",
              "\n",
              "    .colab-df-convert:hover {\n",
              "      background-color: #E2EBFA;\n",
              "      box-shadow: 0px 1px 2px rgba(60, 64, 67, 0.3), 0px 1px 3px 1px rgba(60, 64, 67, 0.15);\n",
              "      fill: #174EA6;\n",
              "    }\n",
              "\n",
              "    [theme=dark] .colab-df-convert {\n",
              "      background-color: #3B4455;\n",
              "      fill: #D2E3FC;\n",
              "    }\n",
              "\n",
              "    [theme=dark] .colab-df-convert:hover {\n",
              "      background-color: #434B5C;\n",
              "      box-shadow: 0px 1px 3px 1px rgba(0, 0, 0, 0.15);\n",
              "      filter: drop-shadow(0px 1px 2px rgba(0, 0, 0, 0.3));\n",
              "      fill: #FFFFFF;\n",
              "    }\n",
              "  </style>\n",
              "\n",
              "      <script>\n",
              "        const buttonEl =\n",
              "          document.querySelector('#df-0b1388f6-c81d-48e2-94fb-e0a213678cd2 button.colab-df-convert');\n",
              "        buttonEl.style.display =\n",
              "          google.colab.kernel.accessAllowed ? 'block' : 'none';\n",
              "\n",
              "        async function convertToInteractive(key) {\n",
              "          const element = document.querySelector('#df-0b1388f6-c81d-48e2-94fb-e0a213678cd2');\n",
              "          const dataTable =\n",
              "            await google.colab.kernel.invokeFunction('convertToInteractive',\n",
              "                                                     [key], {});\n",
              "          if (!dataTable) return;\n",
              "\n",
              "          const docLinkHtml = 'Like what you see? Visit the ' +\n",
              "            '<a target=\"_blank\" href=https://colab.research.google.com/notebooks/data_table.ipynb>data table notebook</a>'\n",
              "            + ' to learn more about interactive tables.';\n",
              "          element.innerHTML = '';\n",
              "          dataTable['output_type'] = 'display_data';\n",
              "          await google.colab.output.renderOutput(dataTable, element);\n",
              "          const docLink = document.createElement('div');\n",
              "          docLink.innerHTML = docLinkHtml;\n",
              "          element.appendChild(docLink);\n",
              "        }\n",
              "      </script>\n",
              "    </div>\n",
              "  </div>\n",
              "  "
            ]
          },
          "metadata": {},
          "execution_count": 19
        }
      ]
    },
    {
      "cell_type": "markdown",
      "source": [
        "##Train-Test Split"
      ],
      "metadata": {
        "id": "4USR2Ti4xQiQ"
      }
    },
    {
      "cell_type": "code",
      "source": [
        "SEED=123\n",
        "X_train,X_test,y_train,y_test=train_test_split(X, y, test_size=0.2, random_state=SEED, stratify=y)\n",
        "print(X_train.shape, y_train.shape)\n",
        "print(X_test.shape, y_test.shape)"
      ],
      "metadata": {
        "colab": {
          "base_uri": "https://localhost:8080/"
        },
        "id": "sWMbpod-xPp4",
        "outputId": "13175829-5010-436a-c937-686bce264458"
      },
      "execution_count": null,
      "outputs": [
        {
          "output_type": "stream",
          "name": "stdout",
          "text": [
            "(8968, 13740) (8968,)\n",
            "(2243, 13740) (2243,)\n"
          ]
        }
      ]
    },
    {
      "cell_type": "code",
      "source": [
        "data[\"Title\"]"
      ],
      "metadata": {
        "colab": {
          "base_uri": "https://localhost:8080/"
        },
        "id": "nWdBjZGKe4XQ",
        "outputId": "1ef6ce2b-e1db-41a2-b88d-0da95bdf4da1"
      },
      "execution_count": null,
      "outputs": [
        {
          "output_type": "execute_result",
          "data": {
            "text/plain": [
              "0         weekend north goa 🌊 goa travel vlog kritika goel\n",
              "1                          jathar textile pvt ichalkaranji\n",
              "2                               paddleboarding north shore\n",
              "3                                              common food\n",
              "4                                          വയനാട് പൂപ്പൊലി\n",
              "                               ...                        \n",
              "11206    രുചിയുടെ കലവറ തേടി oryx village kanhangad expl...\n",
              "11207                                   youtube travellers\n",
              "11208    hanging korean cafe travel blogging cafe jeste...\n",
              "11209                 northeastern chinese dishes need try\n",
              "11210    taj rambagh palace jaipur luxurious suites tra...\n",
              "Name: Title, Length: 11211, dtype: object"
            ]
          },
          "metadata": {},
          "execution_count": 21
        }
      ]
    },
    {
      "cell_type": "markdown",
      "source": [
        "##Naive Bayes Classifier"
      ],
      "metadata": {
        "id": "bzvRu8lQGrLq"
      }
    },
    {
      "cell_type": "markdown",
      "source": [
        "###Gausian Naive Bayes"
      ],
      "metadata": {
        "id": "LbD9a1N7Gwt7"
      }
    },
    {
      "cell_type": "code",
      "source": [
        "gnb = GaussianNB()\n",
        "%time gnb.fit(X_train, y_train)\n",
        "\n",
        "y_pred_train = gnb.predict(X_train)\n",
        "y_pred_test = gnb.predict(X_test)\n",
        "print(\"\\nTraining Accuracy score:\",accuracy_score(y_train, y_pred_train))\n",
        "print(\"Testing Accuracy score:\",accuracy_score(y_test, y_pred_test))"
      ],
      "metadata": {
        "colab": {
          "base_uri": "https://localhost:8080/"
        },
        "id": "CqN6bFGDxp1U",
        "outputId": "2851fda5-151a-4e6f-ba91-abecb28100de"
      },
      "execution_count": null,
      "outputs": [
        {
          "output_type": "stream",
          "name": "stdout",
          "text": [
            "CPU times: user 1.88 s, sys: 785 ms, total: 2.66 s\n",
            "Wall time: 3.03 s\n",
            "\n",
            "Training Accuracy score: 0.9402319357716324\n",
            "Testing Accuracy score: 0.6963887650468124\n"
          ]
        }
      ]
    },
    {
      "cell_type": "code",
      "source": [
        "print(classification_report(y_test, y_pred_test, target_names=['Food', 'manufacturing','History','travel blog','Art&Music','Science&Technology']))"
      ],
      "metadata": {
        "id": "6kPdiampHwwx",
        "colab": {
          "base_uri": "https://localhost:8080/"
        },
        "outputId": "f8a1c6e7-dd10-4086-9f7d-8e981ffc3535"
      },
      "execution_count": null,
      "outputs": [
        {
          "output_type": "stream",
          "name": "stdout",
          "text": [
            "                    precision    recall  f1-score   support\n",
            "\n",
            "              Food       0.73      0.63      0.68       353\n",
            "     manufacturing       0.70      0.78      0.74       366\n",
            "           History       0.59      0.76      0.67       329\n",
            "       travel blog       0.66      0.54      0.60       415\n",
            "         Art&Music       0.68      0.81      0.74       340\n",
            "Science&Technology       0.83      0.69      0.75       440\n",
            "\n",
            "          accuracy                           0.70      2243\n",
            "         macro avg       0.70      0.70      0.70      2243\n",
            "      weighted avg       0.71      0.70      0.70      2243\n",
            "\n"
          ]
        }
      ]
    },
    {
      "cell_type": "code",
      "source": [
        "cm = confusion_matrix(y_test, y_pred_test)\n",
        "# print('Confusion matrix\\n', cm)\n",
        "\n",
        "cm_matrix = pd.DataFrame(data=cm, columns=['Food', 'manufacturing','History','travel blog','Art&Music','Science&Technology'],\n",
        "                                  index=['Food', 'manufacturing','History','travel blog','Art&Music','Science&Technology'])\n",
        "sns.heatmap(cm_matrix, annot=True, fmt='d', cmap='YlGnBu')\n",
        "plt.show()"
      ],
      "metadata": {
        "id": "FE3NkqT5YkoW",
        "colab": {
          "base_uri": "https://localhost:8080/",
          "height": 558
        },
        "outputId": "811c2161-3cf3-42fb-f2d8-ffbc3e48f3f2"
      },
      "execution_count": null,
      "outputs": [
        {
          "output_type": "display_data",
          "data": {
            "text/plain": [
              "<Figure size 640x480 with 2 Axes>"
            ],
            "image/png": "[encoded data removed]"
          },
          "metadata": {}
        }
      ]
    },
    {
      "cell_type": "markdown",
      "source": [
        "##Multinomial Naive Bayes"
      ],
      "metadata": {
        "id": "Sl1DM_1ZZRlT"
      }
    },
    {
      "cell_type": "code",
      "source": [
        "mnb = MultinomialNB()\n",
        "%time mnb.fit(X_train, y_train)\n",
        "\n",
        "y_pred_train = mnb.predict(X_train)\n",
        "y_pred_test = mnb.predict(X_test)\n",
        "print(\"\\nTraining Accuracy score:\",accuracy_score(y_train, y_pred_train))\n",
        "print(\"Testing Accuracy score:\",accuracy_score(y_test, y_pred_test))"
      ],
      "metadata": {
        "id": "mYyFOkthZTjG",
        "colab": {
          "base_uri": "https://localhost:8080/"
        },
        "outputId": "3e50e748-ddd4-4a92-b8a6-e938717fce4d"
      },
      "execution_count": null,
      "outputs": [
        {
          "output_type": "stream",
          "name": "stdout",
          "text": [
            "CPU times: user 931 ms, sys: 166 ms, total: 1.1 s\n",
            "Wall time: 882 ms\n",
            "\n",
            "Training Accuracy score: 0.9737957181088314\n",
            "Testing Accuracy score: 0.9215336602764155\n"
          ]
        }
      ]
    },
    {
      "cell_type": "code",
      "source": [
        "print(classification_report(y_test, y_pred_test, target_names=['Food', 'manufacturing','History','travel blog','Art&Music','Science&Technology']))"
      ],
      "metadata": {
        "id": "9lZLiYroZZmu",
        "colab": {
          "base_uri": "https://localhost:8080/"
        },
        "outputId": "6af59d5c-610c-4d31-91bb-9533aa7274f6"
      },
      "execution_count": null,
      "outputs": [
        {
          "output_type": "stream",
          "name": "stdout",
          "text": [
            "                    precision    recall  f1-score   support\n",
            "\n",
            "              Food       0.96      0.96      0.96       353\n",
            "     manufacturing       0.96      0.88      0.92       366\n",
            "           History       0.94      0.89      0.91       329\n",
            "       travel blog       0.87      0.88      0.87       415\n",
            "         Art&Music       0.95      0.94      0.95       340\n",
            "Science&Technology       0.89      0.96      0.92       440\n",
            "\n",
            "          accuracy                           0.92      2243\n",
            "         macro avg       0.93      0.92      0.92      2243\n",
            "      weighted avg       0.92      0.92      0.92      2243\n",
            "\n"
          ]
        }
      ]
    },
    {
      "cell_type": "code",
      "source": [
        "cm = confusion_matrix(y_test, y_pred_test)\n",
        "# print('Confusion matrix\\n', cm)\n",
        "\n",
        "cm_matrix = pd.DataFrame(data=cm, columns=['Food', 'manufacturing','History','travel blog','Art&Music','Science&Technology'],\n",
        "                                  index=['Food', 'manufacturing','History','travel blog','Art&Music','Science&Technology'])\n",
        "sns.heatmap(cm_matrix, annot=True, fmt='d', cmap='YlGnBu')\n",
        "plt.show()"
      ],
      "metadata": {
        "id": "GdR3tFLeZjPb",
        "colab": {
          "base_uri": "https://localhost:8080/",
          "height": 558
        },
        "outputId": "e4a3fa16-7463-4591-d1bf-0e88d489c68b"
      },
      "execution_count": null,
      "outputs": [
        {
          "output_type": "display_data",
          "data": {
            "text/plain": [
              "<Figure size 640x480 with 2 Axes>"
            ],
            "image/png": "[encoded data removed]"
          },
          "metadata": {}
        }
      ]
    },
    {
      "cell_type": "markdown",
      "source": [
        "##Logistic Regression Classifier"
      ],
      "metadata": {
        "id": "uz4c0kxAZogv"
      }
    },
    {
      "cell_type": "code",
      "source": [
        "lr = LogisticRegression(random_state=SEED)\n",
        "%time lr.fit(X_train, y_train)\n",
        "\n",
        "y_pred_train = lr.predict(X_train)\n",
        "y_pred_test = lr.predict(X_test)\n",
        "print(\"\\nTraining Accuracy score:\",accuracy_score(y_train, y_pred_train))\n",
        "print(\"Testing Accuracy score:\",accuracy_score(y_test, y_pred_test))"
      ],
      "metadata": {
        "id": "Lc15FfTXaI7F",
        "colab": {
          "base_uri": "https://localhost:8080/"
        },
        "outputId": "a03d3308-9164-46d4-80d0-9ccdbe1c5912"
      },
      "execution_count": null,
      "outputs": [
        {
          "output_type": "stream",
          "name": "stdout",
          "text": [
            "CPU times: user 2min 40s, sys: 21.5 s, total: 3min 2s\n",
            "Wall time: 2min\n",
            "\n",
            "Training Accuracy score: 0.975914362176628\n",
            "Testing Accuracy score: 0.9268836379848417\n"
          ]
        }
      ]
    },
    {
      "cell_type": "code",
      "source": [
        "print(classification_report(y_test, y_pred_test, target_names=['Food', 'manufacturing','History','travel blog','Art&Music','Science&Technology']))"
      ],
      "metadata": {
        "id": "qnjVjN-PaW7h",
        "colab": {
          "base_uri": "https://localhost:8080/"
        },
        "outputId": "59744cd0-a010-4552-c44c-eae4f7c6f012"
      },
      "execution_count": null,
      "outputs": [
        {
          "output_type": "stream",
          "name": "stdout",
          "text": [
            "                    precision    recall  f1-score   support\n",
            "\n",
            "              Food       0.99      0.95      0.97       353\n",
            "     manufacturing       0.97      0.91      0.94       366\n",
            "           History       0.98      0.89      0.93       329\n",
            "       travel blog       0.78      0.96      0.86       415\n",
            "         Art&Music       1.00      0.91      0.96       340\n",
            "Science&Technology       0.94      0.92      0.93       440\n",
            "\n",
            "          accuracy                           0.93      2243\n",
            "         macro avg       0.94      0.93      0.93      2243\n",
            "      weighted avg       0.94      0.93      0.93      2243\n",
            "\n"
          ]
        }
      ]
    },
    {
      "cell_type": "code",
      "source": [
        "cm = confusion_matrix(y_test, y_pred_test)\n",
        "#print('Confusion matrix\\n', cm)\n",
        "\n",
        "cm_matrix = pd.DataFrame(data=cm, columns=['Food', 'manufacturing','History','travel blog','Art&Music','Science&Technology'],\n",
        "                                  index=['Food', 'manufacturing','History','travel blog','Art&Music','Science&Technology'])\n",
        "sns.heatmap(cm_matrix, annot=True, fmt='d', cmap='YlGnBu')\n",
        "plt.show()"
      ],
      "metadata": {
        "id": "QBpLBk6zaP1w",
        "colab": {
          "base_uri": "https://localhost:8080/",
          "height": 561
        },
        "outputId": "a19dc99d-1121-4816-9306-ef1462669141"
      },
      "execution_count": null,
      "outputs": [
        {
          "output_type": "display_data",
          "data": {
            "text/plain": [
              "<Figure size 640x480 with 2 Axes>"
            ],
            "image/png": "[encoded data removed]"
          },
          "metadata": {}
        }
      ]
    },
    {
      "cell_type": "markdown",
      "source": [
        "##Support Vector Machines"
      ],
      "metadata": {
        "id": "wOvEBDzratip"
      }
    },
    {
      "cell_type": "code",
      "source": [
        "svc =  LinearSVC(class_weight='balanced')\n",
        "%time svc.fit(X_train, y_train)\n",
        "\n",
        "y_pred_train = svc.predict(X_train)\n",
        "y_pred_test = svc.predict(X_test)\n",
        "print(\"\\nTraining Accuracy score:\",accuracy_score(y_train, y_pred_train))\n",
        "print(\"Testing Accuracy score:\",accuracy_score(y_test, y_pred_test))"
      ],
      "metadata": {
        "id": "fYa3p5G3ajta",
        "colab": {
          "base_uri": "https://localhost:8080/"
        },
        "outputId": "d7c19a51-5d78-417a-9b7a-1902b0dc0e10"
      },
      "execution_count": null,
      "outputs": [
        {
          "output_type": "stream",
          "name": "stdout",
          "text": [
            "CPU times: user 1.05 s, sys: 1.91 ms, total: 1.05 s\n",
            "Wall time: 1.08 s\n",
            "\n",
            "Training Accuracy score: 0.9950936663693131\n",
            "Testing Accuracy score: 0.9398127507802051\n"
          ]
        }
      ]
    },
    {
      "cell_type": "code",
      "source": [
        "print(classification_report(y_test, y_pred_test, target_names=['Food', 'manufacturing','History','travel blog','Art&Music','Science&Technology']))"
      ],
      "metadata": {
        "id": "SLdDlZT0bTc0",
        "colab": {
          "base_uri": "https://localhost:8080/"
        },
        "outputId": "b6f925f9-275a-441e-e314-9dd19f9e9cb2"
      },
      "execution_count": null,
      "outputs": [
        {
          "output_type": "stream",
          "name": "stdout",
          "text": [
            "                    precision    recall  f1-score   support\n",
            "\n",
            "              Food       0.99      0.97      0.98       353\n",
            "     manufacturing       0.95      0.93      0.94       366\n",
            "           History       0.97      0.93      0.95       329\n",
            "       travel blog       0.85      0.94      0.89       415\n",
            "         Art&Music       0.98      0.94      0.96       340\n",
            "Science&Technology       0.94      0.93      0.94       440\n",
            "\n",
            "          accuracy                           0.94      2243\n",
            "         macro avg       0.95      0.94      0.94      2243\n",
            "      weighted avg       0.94      0.94      0.94      2243\n",
            "\n"
          ]
        }
      ]
    },
    {
      "cell_type": "code",
      "source": [
        "cm = confusion_matrix(y_test, y_pred_test)\n",
        "# print('Confusion matrix\\n', cm)\n",
        "\n",
        "cm_matrix = pd.DataFrame(data=cm, columns=['Food', 'manufacturing','History','travel blog','Art&Music','Science&Technology'],\n",
        "                        index=['Food', 'manufacturing','History','travel blog','Art&Music','Science&Technology'])\n",
        "sns.heatmap(cm_matrix, annot=True, fmt='d', cmap='YlGnBu')\n",
        "plt.show()"
      ],
      "metadata": {
        "id": "SV3LWrWZbPT8",
        "colab": {
          "base_uri": "https://localhost:8080/",
          "height": 558
        },
        "outputId": "36416f9b-cc07-45ac-e514-d03a3b073014"
      },
      "execution_count": null,
      "outputs": [
        {
          "output_type": "display_data",
          "data": {
            "text/plain": [
              "<Figure size 640x480 with 2 Axes>"
            ],
            "image/png": "[encoded data removed]"
          },
          "metadata": {}
        }
      ]
    },
    {
      "cell_type": "markdown",
      "source": [
        "##Decision Tree Classifier"
      ],
      "metadata": {
        "id": "cAx1uM8rbkxT"
      }
    },
    {
      "cell_type": "code",
      "source": [
        "from sklearn.tree import DecisionTreeClassifier\n",
        "\n",
        "dt = DecisionTreeClassifier(random_state=SEED)\n",
        "%time dt.fit(X_train, y_train)\n",
        "\n",
        "y_pred_train = dt.predict(X_train)\n",
        "y_pred_test = dt.predict(X_test)\n",
        "print(\"\\nTraining Accuracy score:\",accuracy_score(y_train, y_pred_train))\n",
        "print(\"Testing Accuracy score:\",accuracy_score(y_test, y_pred_test))"
      ],
      "metadata": {
        "id": "7RnbG8NZbmEF",
        "colab": {
          "base_uri": "https://localhost:8080/"
        },
        "outputId": "15b0a92e-5436-45b7-ee49-18d5aa73ae52"
      },
      "execution_count": null,
      "outputs": [
        {
          "output_type": "stream",
          "name": "stdout",
          "text": [
            "CPU times: user 32.7 s, sys: 149 ms, total: 32.9 s\n",
            "Wall time: 33.4 s\n",
            "\n",
            "Training Accuracy score: 0.9976583407671722\n",
            "Testing Accuracy score: 0.8805171645118145\n"
          ]
        }
      ]
    },
    {
      "cell_type": "code",
      "source": [
        "print(classification_report(y_test, y_pred_test, target_names=['Food', 'manufacturing','History','travel blog','Art&Music','Science&Technology']))"
      ],
      "metadata": {
        "id": "sU7J60edcxXu",
        "colab": {
          "base_uri": "https://localhost:8080/"
        },
        "outputId": "3e356c33-faf4-4abc-ddb9-ea611d5bedaa"
      },
      "execution_count": null,
      "outputs": [
        {
          "output_type": "stream",
          "name": "stdout",
          "text": [
            "                    precision    recall  f1-score   support\n",
            "\n",
            "              Food       0.97      0.96      0.97       353\n",
            "     manufacturing       0.92      0.85      0.89       366\n",
            "           History       0.94      0.90      0.92       329\n",
            "       travel blog       0.87      0.75      0.80       415\n",
            "         Art&Music       0.98      0.91      0.94       340\n",
            "Science&Technology       0.73      0.93      0.81       440\n",
            "\n",
            "          accuracy                           0.88      2243\n",
            "         macro avg       0.90      0.88      0.89      2243\n",
            "      weighted avg       0.89      0.88      0.88      2243\n",
            "\n"
          ]
        }
      ]
    },
    {
      "cell_type": "code",
      "source": [
        "cm = confusion_matrix(y_test, y_pred_test)\n",
        "# print('Confusion matrix\\n', cm)\n",
        "\n",
        "cm_matrix = pd.DataFrame(data=cm, columns=['Food', 'manufacturing','History','travel blog','Art&Music','Science&Technology'],\n",
        "                        index=['Food', 'manufacturing','History','travel blog','Art&Music','Science&Technology'])\n",
        "sns.heatmap(cm_matrix, annot=True, fmt='d', cmap='YlGnBu')\n",
        "plt.show()"
      ],
      "metadata": {
        "id": "EIVrAp50cu3y",
        "colab": {
          "base_uri": "https://localhost:8080/",
          "height": 558
        },
        "outputId": "865c5989-53ef-494a-b396-257fcee2db2a"
      },
      "execution_count": null,
      "outputs": [
        {
          "output_type": "display_data",
          "data": {
            "text/plain": [
              "<Figure size 640x480 with 2 Axes>"
            ],
            "image/png": "[encoded data removed]"
          },
          "metadata": {}
        }
      ]
    },
    {
      "cell_type": "markdown",
      "source": [
        "##Ensembling"
      ],
      "metadata": {
        "id": "UfPuWBiuc-Pp"
      }
    },
    {
      "cell_type": "code",
      "source": [
        "from sklearn.ensemble import VotingClassifier\n",
        "\n",
        "classifiers = [('LinearSVC', svc),\n",
        "               ('Logistic Regression', lr),\n",
        "                ('MultinomialNB', mnb)\n",
        "              ]\n",
        "vc = VotingClassifier(estimators=classifiers)\n",
        "# Fit 'vc' to the traing set and predict test set labels\n",
        "vc.fit(X_train, y_train)\n",
        "y_pred_train=vc.predict(X_train)\n",
        "y_pred_test = vc.predict(X_test)\n",
        "print(\"Training Accuracy score:\",accuracy_score(y_train, y_pred_train))\n",
        "print(\"Testing Accuracy score:\",accuracy_score(y_test, y_pred_test))"
      ],
      "metadata": {
        "id": "2CyGye6Jc_x5",
        "colab": {
          "base_uri": "https://localhost:8080/"
        },
        "outputId": "0d615b0a-6c4d-4516-a22f-61423510a6b3"
      },
      "execution_count": null,
      "outputs": [
        {
          "output_type": "stream",
          "name": "stdout",
          "text": [
            "Training Accuracy score: 0.9848349687778769\n",
            "Testing Accuracy score: 0.942041908158716\n"
          ]
        }
      ]
    },
    {
      "cell_type": "code",
      "source": [
        "#predictions = pd.Series(vc.predict(X), name=\"Category\")\n",
        "#results = pd.concat([predictions],axis=1)\n",
        "#results.to_csv(\"/Youtube_Video_Dataset - Youtube_Video_Dataset.csv\",index=False)"
      ],
      "metadata": {
        "id": "w1nfg-HbdC6A"
      },
      "execution_count": null,
      "outputs": []
    },
    {
      "cell_type": "code",
      "source": [
        "data"
      ],
      "metadata": {
        "colab": {
          "base_uri": "https://localhost:8080/",
          "height": 423
        },
        "id": "_3QM4ulJcn5u",
        "outputId": "7a8dfc7d-25c4-4a68-a12b-8ee71d57e979"
      },
      "execution_count": null,
      "outputs": [
        {
          "output_type": "execute_result",
          "data": {
            "text/plain": [
              "                                                   Title       Category\n",
              "0       weekend north goa 🌊 goa travel vlog kritika goel    travel blog\n",
              "1                        jathar textile pvt ichalkaranji  manufacturing\n",
              "2                             paddleboarding north shore           Food\n",
              "3                                            common food           Food\n",
              "4                                        വയനാട് പൂപ്പൊലി    travel blog\n",
              "...                                                  ...            ...\n",
              "11206  രുചിയുടെ കലവറ തേടി oryx village kanhangad expl...    travel blog\n",
              "11207                                 youtube travellers    travel blog\n",
              "11208  hanging korean cafe travel blogging cafe jeste...    travel blog\n",
              "11209               northeastern chinese dishes need try           Food\n",
              "11210  taj rambagh palace jaipur luxurious suites tra...    travel blog\n",
              "\n",
              "[11211 rows x 2 columns]"
            ],
            "text/html": [
              "\n",
              "  <div id=\"df-9ef008db-48f0-4532-880a-acfff8be4f02\">\n",
              "    <div class=\"colab-df-container\">\n",
              "      <div>\n",
              "<style scoped>\n",
              "    .dataframe tbody tr th:only-of-type {\n",
              "        vertical-align: middle;\n",
              "    }\n",
              "\n",
              "    .dataframe tbody tr th {\n",
              "        vertical-align: top;\n",
              "    }\n",
              "\n",
              "    .dataframe thead th {\n",
              "        text-align: right;\n",
              "    }\n",
              "</style>\n",
              "<table border=\"1\" class=\"dataframe\">\n",
              "  <thead>\n",
              "    <tr style=\"text-align: right;\">\n",
              "      <th></th>\n",
              "      <th>Title</th>\n",
              "      <th>Category</th>\n",
              "    </tr>\n",
              "  </thead>\n",
              "  <tbody>\n",
              "    <tr>\n",
              "      <th>0</th>\n",
              "      <td>weekend north goa 🌊 goa travel vlog kritika goel</td>\n",
              "      <td>travel blog</td>\n",
              "    </tr>\n",
              "    <tr>\n",
              "      <th>1</th>\n",
              "      <td>jathar textile pvt ichalkaranji</td>\n",
              "      <td>manufacturing</td>\n",
              "    </tr>\n",
              "    <tr>\n",
              "      <th>2</th>\n",
              "      <td>paddleboarding north shore</td>\n",
              "      <td>Food</td>\n",
              "    </tr>\n",
              "    <tr>\n",
              "      <th>3</th>\n",
              "      <td>common food</td>\n",
              "      <td>Food</td>\n",
              "    </tr>\n",
              "    <tr>\n",
              "      <th>4</th>\n",
              "      <td>വയനാട് പൂപ്പൊലി</td>\n",
              "      <td>travel blog</td>\n",
              "    </tr>\n",
              "    <tr>\n",
              "      <th>...</th>\n",
              "      <td>...</td>\n",
              "      <td>...</td>\n",
              "    </tr>\n",
              "    <tr>\n",
              "      <th>11206</th>\n",
              "      <td>രുചിയുടെ കലവറ തേടി oryx village kanhangad expl...</td>\n",
              "      <td>travel blog</td>\n",
              "    </tr>\n",
              "    <tr>\n",
              "      <th>11207</th>\n",
              "      <td>youtube travellers</td>\n",
              "      <td>travel blog</td>\n",
              "    </tr>\n",
              "    <tr>\n",
              "      <th>11208</th>\n",
              "      <td>hanging korean cafe travel blogging cafe jeste...</td>\n",
              "      <td>travel blog</td>\n",
              "    </tr>\n",
              "    <tr>\n",
              "      <th>11209</th>\n",
              "      <td>northeastern chinese dishes need try</td>\n",
              "      <td>Food</td>\n",
              "    </tr>\n",
              "    <tr>\n",
              "      <th>11210</th>\n",
              "      <td>taj rambagh palace jaipur luxurious suites tra...</td>\n",
              "      <td>travel blog</td>\n",
              "    </tr>\n",
              "  </tbody>\n",
              "</table>\n",
              "<p>11211 rows × 2 columns</p>\n",
              "</div>\n",
              "      <button class=\"colab-df-convert\" onclick=\"convertToInteractive('df-9ef008db-48f0-4532-880a-acfff8be4f02')\"\n",
              "              title=\"Convert this dataframe to an interactive table.\"\n",
              "              style=\"display:none;\">\n",
              "        \n",
              "  <svg xmlns=\"http://www.w3.org/2000/svg\" height=\"24px\"viewBox=\"0 0 24 24\"\n",
              "       width=\"24px\">\n",
              "    <path d=\"M0 0h24v24H0V0z\" fill=\"none\"/>\n",
              "    <path d=\"M18.56 5.44l.94 2.06.94-2.06 2.06-.94-2.06-.94-.94-2.06-.94 2.06-2.06.94zm-11 1L8.5 8.5l.94-2.06 2.06-.94-2.06-.94L8.5 2.5l-.94 2.06-2.06.94zm10 10l.94 2.06.94-2.06 2.06-.94-2.06-.94-.94-2.06-.94 2.06-2.06.94z\"/><path d=\"M17.41 7.96l-1.37-1.37c-.4-.4-.92-.59-1.43-.59-.52 0-1.04.2-1.43.59L10.3 9.45l-7.72 7.72c-.78.78-.78 2.05 0 2.83L4 21.41c.39.39.9.59 1.41.59.51 0 1.02-.2 1.41-.59l7.78-7.78 2.81-2.81c.8-.78.8-2.07 0-2.86zM5.41 20L4 18.59l7.72-7.72 1.47 1.35L5.41 20z\"/>\n",
              "  </svg>\n",
              "      </button>\n",
              "      \n",
              "  <style>\n",
              "    .colab-df-container {\n",
              "      display:flex;\n",
              "      flex-wrap:wrap;\n",
              "      gap: 12px;\n",
              "    }\n",
              "\n",
              "    .colab-df-convert {\n",
              "      background-color: #E8F0FE;\n",
              "      border: none;\n",
              "      border-radius: 50%;\n",
              "      cursor: pointer;\n",
              "      display: none;\n",
              "      fill: #1967D2;\n",
              "      height: 32px;\n",
              "      padding: 0 0 0 0;\n",
              "      width: 32px;\n",
              "    }\n",
              "\n",
              "    .colab-df-convert:hover {\n",
              "      background-color: #E2EBFA;\n",
              "      box-shadow: 0px 1px 2px rgba(60, 64, 67, 0.3), 0px 1px 3px 1px rgba(60, 64, 67, 0.15);\n",
              "      fill: #174EA6;\n",
              "    }\n",
              "\n",
              "    [theme=dark] .colab-df-convert {\n",
              "      background-color: #3B4455;\n",
              "      fill: #D2E3FC;\n",
              "    }\n",
              "\n",
              "    [theme=dark] .colab-df-convert:hover {\n",
              "      background-color: #434B5C;\n",
              "      box-shadow: 0px 1px 3px 1px rgba(0, 0, 0, 0.15);\n",
              "      filter: drop-shadow(0px 1px 2px rgba(0, 0, 0, 0.3));\n",
              "      fill: #FFFFFF;\n",
              "    }\n",
              "  </style>\n",
              "\n",
              "      <script>\n",
              "        const buttonEl =\n",
              "          document.querySelector('#df-9ef008db-48f0-4532-880a-acfff8be4f02 button.colab-df-convert');\n",
              "        buttonEl.style.display =\n",
              "          google.colab.kernel.accessAllowed ? 'block' : 'none';\n",
              "\n",
              "        async function convertToInteractive(key) {\n",
              "          const element = document.querySelector('#df-9ef008db-48f0-4532-880a-acfff8be4f02');\n",
              "          const dataTable =\n",
              "            await google.colab.kernel.invokeFunction('convertToInteractive',\n",
              "                                                     [key], {});\n",
              "          if (!dataTable) return;\n",
              "\n",
              "          const docLinkHtml = 'Like what you see? Visit the ' +\n",
              "            '<a target=\"_blank\" href=https://colab.research.google.com/notebooks/data_table.ipynb>data table notebook</a>'\n",
              "            + ' to learn more about interactive tables.';\n",
              "          element.innerHTML = '';\n",
              "          dataTable['output_type'] = 'display_data';\n",
              "          await google.colab.output.renderOutput(dataTable, element);\n",
              "          const docLink = document.createElement('div');\n",
              "          docLink.innerHTML = docLinkHtml;\n",
              "          element.appendChild(docLink);\n",
              "        }\n",
              "      </script>\n",
              "    </div>\n",
              "  </div>\n",
              "  "
            ]
          },
          "metadata": {},
          "execution_count": 39
        }
      ]
    },
    {
      "cell_type": "code",
      "source": [
        "from sklearn.metrics.pairwise import cosine_similarity\n",
        "from sklearn.feature_extraction.text import TfidfVectorizer\n",
        "\n",
        "# Define the target sentence and a list of sentences\n",
        "target_sentence = \"receipe of vegetarian food\"\n",
        "sentences = list(data['Title'])\n",
        "# tfidf_vectorizer = TfidfVectorizer(use_idf=True, max_features = 20000)\n",
        "# tfidf_vectorizer_vectors = tfidf_vectorizer.fit_transform(docs)\n",
        "# docs = tfidf_vectorizer_vectors.toarray()\n",
        "# Create a TF-IDF vectorizer and fit it to the sentences\n",
        "def func(target_sentence):\n",
        "    vectorizer = TfidfVectorizer()\n",
        "    vectorizer.fit(sentences)\n",
        "\n",
        "    # Transform the target sentence and sentences to vectors\n",
        "    target_vector = vectorizer.transform([target_sentence])\n",
        "    sentence_vectors = vectorizer.transform(sentences)\n",
        "\n",
        "    # Calculate the cosine similarity between the target sentence and sentences\n",
        "    cosine_similarities = cosine_similarity(target_vector, sentence_vectors)\n",
        "\n",
        "    # Get the indices of the top 10 most similar sentences\n",
        "    top10_indices = cosine_similarities.argsort()[0][-10:][::-1]\n",
        "\n",
        "    # Print the top 10 most similar sentences\n",
        "    print(\"Top 10 most similar sentences:\")\n",
        "    idx = []\n",
        "    z = 0\n",
        "    for i in top10_indices:\n",
        "        idx.append(sentences.index(sentences[i]))\n",
        "        print(f\"{sentences[i]} (cosine similarity: {cosine_similarities[0][i]}) {temp_data.iloc[idx[z]]['Videourl']}\")\n",
        "        z = z+1\n",
        "    return"
      ],
      "metadata": {
        "id": "UuGKLsrBUKUf"
      },
      "execution_count": null,
      "outputs": []
    },
    {
      "cell_type": "code",
      "source": [
        "keyword = input()"
      ],
      "metadata": {
        "colab": {
          "base_uri": "https://localhost:8080/"
        },
        "id": "gCMujqysyf91",
        "outputId": "7d79d777-aca4-480f-ea61-0d7b250fdfbd"
      },
      "execution_count": null,
      "outputs": [
        {
          "name": "stdout",
          "output_type": "stream",
          "text": [
            "goa travel\n"
          ]
        }
      ]
    },
    {
      "cell_type": "code",
      "source": [
        "idx = func(\"receipe of vegetarian food\")"
      ],
      "metadata": {
        "colab": {
          "base_uri": "https://localhost:8080/"
        },
        "id": "PhrOv1yqig5j",
        "outputId": "7e26418b-4035-44d2-83ec-ff0e9a5aa1c7"
      },
      "execution_count": null,
      "outputs": [
        {
          "output_type": "stream",
          "name": "stdout",
          "text": [
            "Top 10 most similar sentences:\n",
            "vegetarian thai food discussion easy vegetarian (cosine similarity: 0.7778491863410802) /watch?v=jRaQorexCoQ\n",
            "world went vegetarian (cosine similarity: 0.5872146321904691) /watch?v=ANUoAdXfA60\n",
            "vegetarian thai food mbk food court (cosine similarity: 0.5606374707839095) /watch?v=xVF5XYWrZ34\n",
            "eating vegetarian final questions (cosine similarity: 0.4966609186977447) /watch?v=EXfUOgM2nvs\n",
            "huuuge indian street food adventure best vegetarian street food spicy (cosine similarity: 0.48617688569185047) /watch?v=c9B63TchVXQ\n",
            "vegetarian thai food guide eating healthy delicious thai food (cosine similarity: 0.47410389176858025) /watch?v=WgZstdvtUXU\n",
            "kolkata street food amazing indian vegetarian meal s lane (cosine similarity: 0.45411138625987985) /watch?v=24Yci74WGfo\n",
            "thailand vegetarian food festival bangkok เทศกาลกินเจ (cosine similarity: 0.42830332592277154) /watch?v=KYTRqA_-m94\n",
            "thailand vegetarian food festival bangkok เทศกาลกินเจ (cosine similarity: 0.42830332592277154) /watch?v=KYTRqA_-m94\n",
            "indian street food tour deep messy cheap curry vegetarian heaven (cosine similarity: 0.41679229405405954) /watch?v=pM8x0gTiSdA\n"
          ]
        }
      ]
    },
    {
      "cell_type": "code",
      "source": [
        "idx_1 = func(keyword)"
      ],
      "metadata": {
        "colab": {
          "base_uri": "https://localhost:8080/"
        },
        "id": "_UUWjwlfy0P_",
        "outputId": "7a275337-309f-4561-c033-db12013e8470"
      },
      "execution_count": null,
      "outputs": [
        {
          "output_type": "stream",
          "name": "stdout",
          "text": [
            "Top 10 most similar sentences:\n",
            "goa (cosine similarity: 0.8363991584599317) /watch?v=NWWGpi_jQ2M\n",
            "goa (cosine similarity: 0.8363991584599317) /watch?v=NWWGpi_jQ2M\n",
            "goa travel vlog (cosine similarity: 0.8282586881782399) /watch?v=V-Hu5BiEg4U\n",
            "goa travel vlog (cosine similarity: 0.8282586881782399) /watch?v=V-Hu5BiEg4U\n",
            "goa travel vlog (cosine similarity: 0.8282586881782399) /watch?v=V-Hu5BiEg4U\n",
            "goa travel vlog (cosine similarity: 0.8282586881782399) /watch?v=V-Hu5BiEg4U\n",
            "goa travel blog (cosine similarity: 0.8205791138784744) /watch?v=AY7nVgz45Rc\n",
            "goa vlog goa travel vlog (cosine similarity: 0.76548463208249) /watch?v=wYIaC7j_4Vw\n",
            "goa travel video goa best places (cosine similarity: 0.7555613150612179) /watch?v=afPQbp0FqCQ\n",
            "goa travel vlog days south goa (cosine similarity: 0.7277913885345668) /watch?v=EdcZ25BK5vA\n"
          ]
        }
      ]
    }
  ]
}